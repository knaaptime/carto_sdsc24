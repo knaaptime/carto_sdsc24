{
 "cells": [
  {
   "cell_type": "markdown",
   "metadata": {},
   "source": [
    "# Geoprocessing\n",
    "\n",
    "Spatial data comes in a rich variety of forms and corresponding file formats. At the beginning of most geocomputational workflows, one is typically reading these different formats and applying different forms of spatial data processing (or geoprocessing) methods to the data.\n",
    "\n",
    "In this notebook we cover a subset of geoprocessing methods:\n",
    "\n",
    "- Reading geopackages and shapefiles\n",
    "- Coordinate reference system transformations\n",
    "- Spatial joins\n",
    "- Spatial aggregations\n",
    "\n",
    "Along the way we introduce the package [geopandas](https://geopandas.org) which provides key spatial data processing functionality."
   ]
  },
  {
   "cell_type": "code",
   "execution_count": null,
   "metadata": {},
   "outputs": [],
   "source": []
  },
  {
   "cell_type": "code",
   "execution_count": null,
   "metadata": {},
   "outputs": [],
   "source": []
  },
  {
   "cell_type": "markdown",
   "metadata": {},
   "source": [
    "~~## Reading GeoPackages~~\n",
    "\n",
    "~~We begin with our first dataset that contains socieconomic data for census tracts in Southern California. The data are for the census year 2010 and are provided from the package [GeoSNAP](https://github.com/spatialucr/geosnap) as a **GeoPackage**.~~\n",
    "\n",
    "## GeoParquet\n",
    "\n",
    "**dont use legacy file formats :)**"
   ]
  },
  {
   "cell_type": "markdown",
   "metadata": {},
   "source": [
    "Geoparquet is a new(ish)  file format based on apache arrow. It is extremely performant for spatial data in both read/write speeds and on-disk storage\n",
    "\n",
    "We will use **geopandas** to read the GeoPackage for our data:\n"
   ]
  },
  {
   "cell_type": "code",
   "execution_count": null,
   "metadata": {
    "execution": {
     "iopub.execute_input": "2023-10-18T18:38:28.403034Z",
     "iopub.status.busy": "2023-10-18T18:38:28.402519Z",
     "iopub.status.idle": "2023-10-18T18:38:28.954661Z",
     "shell.execute_reply": "2023-10-18T18:38:28.954396Z",
     "shell.execute_reply.started": "2023-10-18T18:38:28.403003Z"
    },
    "tags": []
   },
   "outputs": [],
   "source": [
    "import geopandas as gpd"
   ]
  },
  {
   "cell_type": "code",
   "execution_count": null,
   "metadata": {
    "execution": {
     "iopub.execute_input": "2023-10-18T18:38:47.711802Z",
     "iopub.status.busy": "2023-10-18T18:38:47.711213Z",
     "iopub.status.idle": "2023-10-18T18:38:47.920056Z",
     "shell.execute_reply": "2023-10-18T18:38:47.918363Z",
     "shell.execute_reply.started": "2023-10-18T18:38:47.711769Z"
    },
    "tags": []
   },
   "outputs": [],
   "source": [
    "socal = gpd.read_parquet(\"data/scag_region.parquet\") "
   ]
  },
  {
   "cell_type": "code",
   "execution_count": null,
   "metadata": {
    "execution": {
     "iopub.execute_input": "2023-10-18T18:39:20.417306Z",
     "iopub.status.busy": "2023-10-18T18:39:20.416980Z",
     "iopub.status.idle": "2023-10-18T18:39:20.428994Z",
     "shell.execute_reply": "2023-10-18T18:39:20.428278Z",
     "shell.execute_reply.started": "2023-10-18T18:39:20.417285Z"
    },
    "tags": []
   },
   "outputs": [],
   "source": [
    "type(socal)"
   ]
  },
  {
   "cell_type": "code",
   "execution_count": null,
   "metadata": {
    "execution": {
     "iopub.execute_input": "2023-10-18T18:39:27.980898Z",
     "iopub.status.busy": "2023-10-18T18:39:27.980578Z",
     "iopub.status.idle": "2023-10-18T18:39:28.022133Z",
     "shell.execute_reply": "2023-10-18T18:39:28.021560Z",
     "shell.execute_reply.started": "2023-10-18T18:39:27.980878Z"
    },
    "tags": []
   },
   "outputs": [],
   "source": [
    "socal.columns"
   ]
  },
  {
   "cell_type": "code",
   "execution_count": null,
   "metadata": {
    "execution": {
     "iopub.execute_input": "2023-10-18T18:39:44.085147Z",
     "iopub.status.busy": "2023-10-18T18:39:44.083902Z",
     "iopub.status.idle": "2023-10-18T18:39:44.113885Z",
     "shell.execute_reply": "2023-10-18T18:39:44.113424Z",
     "shell.execute_reply.started": "2023-10-18T18:39:44.085114Z"
    },
    "tags": []
   },
   "outputs": [],
   "source": [
    "socal.head()"
   ]
  },
  {
   "cell_type": "code",
   "execution_count": null,
   "metadata": {
    "execution": {
     "iopub.execute_input": "2023-10-18T18:39:59.141818Z",
     "iopub.status.busy": "2023-10-18T18:39:59.141131Z",
     "iopub.status.idle": "2023-10-18T18:39:59.161252Z",
     "shell.execute_reply": "2023-10-18T18:39:59.160219Z",
     "shell.execute_reply.started": "2023-10-18T18:39:59.141784Z"
    },
    "tags": []
   },
   "outputs": [],
   "source": [
    "socal.shape "
   ]
  },
  {
   "cell_type": "markdown",
   "metadata": {},
   "source": [
    "This tells us there are 4580 census tracts and 194 attributes measured for each tract."
   ]
  },
  {
   "cell_type": "code",
   "execution_count": null,
   "metadata": {
    "execution": {
     "iopub.execute_input": "2023-10-18T18:40:19.232248Z",
     "iopub.status.busy": "2023-10-18T18:40:19.231452Z",
     "iopub.status.idle": "2023-10-18T18:40:19.243387Z",
     "shell.execute_reply": "2023-10-18T18:40:19.242519Z",
     "shell.execute_reply.started": "2023-10-18T18:40:19.232215Z"
    },
    "tags": []
   },
   "outputs": [],
   "source": [
    "socal.columns"
   ]
  },
  {
   "cell_type": "markdown",
   "metadata": {},
   "source": [
    "At least one of the attributes (columns) in the GeoDataFrame holds the geometries for the observations. In our case, this column is named `geometry`:"
   ]
  },
  {
   "cell_type": "code",
   "execution_count": null,
   "metadata": {
    "execution": {
     "iopub.execute_input": "2023-10-18T18:40:26.599444Z",
     "iopub.status.busy": "2023-10-18T18:40:26.599119Z",
     "iopub.status.idle": "2023-10-18T18:40:26.610397Z",
     "shell.execute_reply": "2023-10-18T18:40:26.609763Z",
     "shell.execute_reply.started": "2023-10-18T18:40:26.599422Z"
    },
    "tags": []
   },
   "outputs": [],
   "source": [
    "socal.geometry"
   ]
  },
  {
   "cell_type": "markdown",
   "metadata": {},
   "source": [
    "This shows us that each of our observations is encoded as a Polygon geometry. \n",
    "\n",
    "We can call the `plot` method of the GeoDataFrame to visualize these geometries:"
   ]
  },
  {
   "cell_type": "code",
   "execution_count": null,
   "metadata": {
    "execution": {
     "iopub.execute_input": "2023-10-18T18:41:13.090971Z",
     "iopub.status.busy": "2023-10-18T18:41:13.090595Z",
     "iopub.status.idle": "2023-10-18T18:41:13.443506Z",
     "shell.execute_reply": "2023-10-18T18:41:13.443185Z",
     "shell.execute_reply.started": "2023-10-18T18:41:13.090945Z"
    },
    "tags": []
   },
   "outputs": [],
   "source": [
    "socal.plot('n_total_pop')"
   ]
  },
  {
   "cell_type": "markdown",
   "metadata": {},
   "source": [
    "Note that the tract identifier column is `geoid` which encodes the [11-digit FIPS code](https://www.fcc.gov/general/form-477-census-tract-information)."
   ]
  },
  {
   "cell_type": "markdown",
   "metadata": {},
   "source": [
    "~~## Reading shapefiles~~\n",
    "\n",
    "~~[shapefiles](https://doc.arcgis.com/en/arcgis-online/reference/shapefiles.htm) are a common legacy spatial data format for vector data. \n",
    "Let's explore a second data set that encodes mental health provider locations in Riverside County, California as points in a shapefile:~~\n",
    "\n",
    "## Definitely **do not** use shapefiles\n",
    "\n",
    "unless you are forced to. Do not ever provide your data to someone else in shapefile format :). You can use geopandas to read/write legacy formats but we wont bother covering them here. Avoid whenever possible"
   ]
  },
  {
   "cell_type": "code",
   "execution_count": null,
   "metadata": {},
   "outputs": [],
   "source": []
  },
  {
   "cell_type": "code",
   "execution_count": null,
   "metadata": {
    "execution": {
     "iopub.execute_input": "2023-10-18T18:42:25.992254Z",
     "iopub.status.busy": "2023-10-18T18:42:25.991934Z",
     "iopub.status.idle": "2023-10-18T18:42:26.065047Z",
     "shell.execute_reply": "2023-10-18T18:42:26.064624Z",
     "shell.execute_reply.started": "2023-10-18T18:42:25.992232Z"
    },
    "tags": []
   },
   "outputs": [],
   "source": [
    "socal.to_parquet('socal.parquet')"
   ]
  },
  {
   "cell_type": "markdown",
   "metadata": {},
   "source": [
    "### Reading a point ~~shapefile~~"
   ]
  },
  {
   "cell_type": "code",
   "execution_count": null,
   "metadata": {
    "execution": {
     "iopub.execute_input": "2023-10-18T18:43:31.778199Z",
     "iopub.status.busy": "2023-10-18T18:43:31.777876Z",
     "iopub.status.idle": "2023-10-18T18:43:31.795497Z",
     "shell.execute_reply": "2023-10-18T18:43:31.794893Z",
     "shell.execute_reply.started": "2023-10-18T18:43:31.778177Z"
    },
    "tags": []
   },
   "outputs": [],
   "source": [
    "clinics_df = gpd.read_parquet('data/behavioralHealth.parquet')\n",
    "clinics_df.columns"
   ]
  },
  {
   "cell_type": "code",
   "execution_count": null,
   "metadata": {
    "execution": {
     "iopub.execute_input": "2023-10-18T18:43:36.583984Z",
     "iopub.status.busy": "2023-10-18T18:43:36.583179Z",
     "iopub.status.idle": "2023-10-18T18:43:36.606257Z",
     "shell.execute_reply": "2023-10-18T18:43:36.605718Z",
     "shell.execute_reply.started": "2023-10-18T18:43:36.583943Z"
    },
    "tags": []
   },
   "outputs": [],
   "source": [
    "clinics_df.head()"
   ]
  },
  {
   "cell_type": "code",
   "execution_count": null,
   "metadata": {
    "execution": {
     "iopub.execute_input": "2023-10-18T18:43:42.025586Z",
     "iopub.status.busy": "2023-10-18T18:43:42.025027Z",
     "iopub.status.idle": "2023-10-18T18:43:42.136286Z",
     "shell.execute_reply": "2023-10-18T18:43:42.135969Z",
     "shell.execute_reply.started": "2023-10-18T18:43:42.025545Z"
    },
    "tags": []
   },
   "outputs": [],
   "source": [
    "clinics_df.plot()"
   ]
  },
  {
   "cell_type": "code",
   "execution_count": null,
   "metadata": {
    "execution": {
     "iopub.execute_input": "2023-10-18T16:21:53.978982Z",
     "iopub.status.busy": "2023-10-18T16:21:53.978851Z",
     "iopub.status.idle": "2023-10-18T16:21:53.982734Z",
     "shell.execute_reply": "2023-10-18T16:21:53.982367Z",
     "shell.execute_reply.started": "2023-10-18T16:21:53.978973Z"
    }
   },
   "outputs": [],
   "source": [
    "clinics_df.geometry"
   ]
  },
  {
   "cell_type": "code",
   "execution_count": null,
   "metadata": {
    "execution": {
     "iopub.execute_input": "2023-10-18T18:43:55.233683Z",
     "iopub.status.busy": "2023-10-18T18:43:55.232840Z",
     "iopub.status.idle": "2023-10-18T18:43:55.245292Z",
     "shell.execute_reply": "2023-10-18T18:43:55.244596Z",
     "shell.execute_reply.started": "2023-10-18T18:43:55.233649Z"
    },
    "tags": []
   },
   "outputs": [],
   "source": [
    "clinics_df.ADDRESS"
   ]
  },
  {
   "cell_type": "code",
   "execution_count": null,
   "metadata": {
    "execution": {
     "iopub.execute_input": "2023-10-18T16:21:53.995857Z",
     "iopub.status.busy": "2023-10-18T16:21:53.995693Z",
     "iopub.status.idle": "2023-10-18T16:21:54.000612Z",
     "shell.execute_reply": "2023-10-18T16:21:53.999877Z",
     "shell.execute_reply.started": "2023-10-18T16:21:53.995846Z"
    }
   },
   "outputs": [],
   "source": [
    "len(clinics_df.ADDRESS.unique()) # note some clinics have the same address (different types of services provided at same location)"
   ]
  },
  {
   "cell_type": "markdown",
   "metadata": {},
   "source": [
    "## Integrating spatial datasets\n",
    "Let's assume the role of a public health epidemiologist who is interested in equity issues surrounding access to mental health services. We have two datasets to work with here:\n",
    "\n",
    "- the clinics (points in Riverside County)\n",
    "- the tracts for all of Southern California\n",
    "\n",
    "We will thus want to narrow down the focus to Riverside county. So first, we need to extract the tracts for the county from the larger region:\n"
   ]
  },
  {
   "cell_type": "markdown",
   "metadata": {},
   "source": [
    "## Extracting Riverside County Tracts"
   ]
  },
  {
   "cell_type": "code",
   "execution_count": null,
   "metadata": {
    "execution": {
     "iopub.execute_input": "2023-10-18T18:45:36.547510Z",
     "iopub.status.busy": "2023-10-18T18:45:36.546844Z",
     "iopub.status.idle": "2023-10-18T18:45:36.966074Z",
     "shell.execute_reply": "2023-10-18T18:45:36.965752Z",
     "shell.execute_reply.started": "2023-10-18T18:45:36.547480Z"
    },
    "tags": []
   },
   "outputs": [],
   "source": [
    "socal.plot()"
   ]
  },
  {
   "cell_type": "code",
   "execution_count": null,
   "metadata": {
    "execution": {
     "iopub.execute_input": "2023-10-18T18:46:18.551700Z",
     "iopub.status.busy": "2023-10-18T18:46:18.551086Z",
     "iopub.status.idle": "2023-10-18T18:46:18.682081Z",
     "shell.execute_reply": "2023-10-18T18:46:18.681739Z",
     "shell.execute_reply.started": "2023-10-18T18:46:18.551671Z"
    },
    "tags": []
   },
   "outputs": [],
   "source": [
    "rc = socal[socal['geoid'].str.match(\"^06065\")]\n",
    "\n",
    "rc.plot()"
   ]
  },
  {
   "cell_type": "markdown",
   "metadata": {},
   "source": [
    "## Spatial Joins\n",
    "\n",
    "With the two datasets in hand, we would like to know the answer to the following question:\n",
    "\n",
    "> How many clinics are in each census tract in Riverside County?\n",
    "\n",
    "To get at this answer will can use a [spatial join](https://gisgeography.com/spatial-join/). \n",
    "The idea here is to create a linkage between each clinic (point) and the tract (polygon) that the clinic lies within.\n",
    "\n",
    "The answer to our question will be the number of matches found for each census tract.\n",
    "\n",
    "In geopandas the spatial join is done with the `sjoin` method of the GeoDataFrame:\n"
   ]
  },
  {
   "cell_type": "code",
   "execution_count": null,
   "metadata": {
    "execution": {
     "iopub.execute_input": "2023-10-18T18:46:46.970432Z",
     "iopub.status.busy": "2023-10-18T18:46:46.969860Z",
     "iopub.status.idle": "2023-10-18T18:46:47.004325Z",
     "shell.execute_reply": "2023-10-18T18:46:47.003687Z",
     "shell.execute_reply.started": "2023-10-18T18:46:46.970403Z"
    },
    "tags": []
   },
   "outputs": [],
   "source": [
    "clinics_tracts = gpd.sjoin(clinics_df, rc, op='within')"
   ]
  },
  {
   "cell_type": "markdown",
   "metadata": {},
   "source": [
    "We see a warning here, that alerts us to a mismatch between the CRS: [Coordinate Reference Systems](https://www.w3.org/2015/spatial/wiki/Coordinate_Reference_Systems) of the two GeoDataFrames. We can inspect these to see what is going on:"
   ]
  },
  {
   "cell_type": "code",
   "execution_count": null,
   "metadata": {
    "execution": {
     "iopub.execute_input": "2023-10-18T18:47:04.753730Z",
     "iopub.status.busy": "2023-10-18T18:47:04.753178Z",
     "iopub.status.idle": "2023-10-18T18:47:04.765132Z",
     "shell.execute_reply": "2023-10-18T18:47:04.764509Z",
     "shell.execute_reply.started": "2023-10-18T18:47:04.753702Z"
    },
    "tags": []
   },
   "outputs": [],
   "source": [
    "clinics_df.crs"
   ]
  },
  {
   "cell_type": "code",
   "execution_count": null,
   "metadata": {
    "execution": {
     "iopub.execute_input": "2023-10-18T18:47:06.190642Z",
     "iopub.status.busy": "2023-10-18T18:47:06.190269Z",
     "iopub.status.idle": "2023-10-18T18:47:06.199811Z",
     "shell.execute_reply": "2023-10-18T18:47:06.198017Z",
     "shell.execute_reply.started": "2023-10-18T18:47:06.190618Z"
    },
    "tags": []
   },
   "outputs": [],
   "source": [
    "rc.crs"
   ]
  },
  {
   "cell_type": "markdown",
   "metadata": {},
   "source": [
    "So the clinics have a unit of feet, while the tracts are in degrees. The spatial join will be incorrect because of this since the observations from the two dataframes are in different coordinate systems:"
   ]
  },
  {
   "cell_type": "code",
   "execution_count": null,
   "metadata": {
    "execution": {
     "iopub.execute_input": "2023-10-18T18:47:26.590031Z",
     "iopub.status.busy": "2023-10-18T18:47:26.589401Z",
     "iopub.status.idle": "2023-10-18T18:47:26.611388Z",
     "shell.execute_reply": "2023-10-18T18:47:26.610966Z",
     "shell.execute_reply.started": "2023-10-18T18:47:26.589997Z"
    },
    "tags": []
   },
   "outputs": [],
   "source": [
    "clinics_tracts"
   ]
  },
  {
   "cell_type": "markdown",
   "metadata": {},
   "source": [
    "To rectify this, we need to have both GeoDataFrames in the same CRS. Let's change the CRS of the tracts GeoDataFrame which is currently:\n"
   ]
  },
  {
   "cell_type": "code",
   "execution_count": null,
   "metadata": {
    "execution": {
     "iopub.execute_input": "2023-10-18T16:21:54.149518Z",
     "iopub.status.busy": "2023-10-18T16:21:54.149426Z",
     "iopub.status.idle": "2023-10-18T16:21:54.248780Z",
     "shell.execute_reply": "2023-10-18T16:21:54.248323Z",
     "shell.execute_reply.started": "2023-10-18T16:21:54.149509Z"
    },
    "tags": []
   },
   "outputs": [],
   "source": [
    "rc.plot()"
   ]
  },
  {
   "cell_type": "markdown",
   "metadata": {},
   "source": [
    "To change this, we notice the helpful suggestion in the warning above to use the `to_crs` method. Let's try it to see how this works:"
   ]
  },
  {
   "cell_type": "code",
   "execution_count": null,
   "metadata": {
    "execution": {
     "iopub.execute_input": "2023-10-18T18:47:57.977319Z",
     "iopub.status.busy": "2023-10-18T18:47:57.976963Z",
     "iopub.status.idle": "2023-10-18T18:47:58.167273Z",
     "shell.execute_reply": "2023-10-18T18:47:58.166492Z",
     "shell.execute_reply.started": "2023-10-18T18:47:57.977298Z"
    },
    "tags": []
   },
   "outputs": [],
   "source": [
    "rc.to_crs(clinics_df.crs).plot()"
   ]
  },
  {
   "cell_type": "markdown",
   "metadata": {},
   "source": [
    "Comparison of the two plots shows us that the CRS has been changed. We did not assign the object yet (which is good practice when experimenting). But it does what we need, so lets assign the result to redefine our tracts GeoDataFrame:"
   ]
  },
  {
   "cell_type": "code",
   "execution_count": null,
   "metadata": {
    "execution": {
     "iopub.execute_input": "2023-10-18T18:48:27.009382Z",
     "iopub.status.busy": "2023-10-18T18:48:27.008942Z",
     "iopub.status.idle": "2023-10-18T18:48:27.039645Z",
     "shell.execute_reply": "2023-10-18T18:48:27.038416Z",
     "shell.execute_reply.started": "2023-10-18T18:48:27.009358Z"
    },
    "tags": []
   },
   "outputs": [],
   "source": [
    "rc = rc.to_crs(clinics_df.crs)"
   ]
  },
  {
   "cell_type": "code",
   "execution_count": null,
   "metadata": {
    "execution": {
     "iopub.execute_input": "2023-10-18T18:48:34.849925Z",
     "iopub.status.busy": "2023-10-18T18:48:34.849013Z",
     "iopub.status.idle": "2023-10-18T18:48:34.867974Z",
     "shell.execute_reply": "2023-10-18T18:48:34.867151Z",
     "shell.execute_reply.started": "2023-10-18T18:48:34.849887Z"
    },
    "tags": []
   },
   "outputs": [],
   "source": [
    "rc.crs"
   ]
  },
  {
   "cell_type": "code",
   "execution_count": null,
   "metadata": {
    "execution": {
     "iopub.execute_input": "2023-10-18T18:48:43.271233Z",
     "iopub.status.busy": "2023-10-18T18:48:43.270553Z",
     "iopub.status.idle": "2023-10-18T18:48:43.299808Z",
     "shell.execute_reply": "2023-10-18T18:48:43.299391Z",
     "shell.execute_reply.started": "2023-10-18T18:48:43.271201Z"
    },
    "tags": []
   },
   "outputs": [],
   "source": [
    "clinics_tracts = gpd.sjoin(clinics_df, rc, op='within')"
   ]
  },
  {
   "cell_type": "code",
   "execution_count": null,
   "metadata": {
    "execution": {
     "iopub.execute_input": "2023-10-18T18:48:46.258762Z",
     "iopub.status.busy": "2023-10-18T18:48:46.257155Z",
     "iopub.status.idle": "2023-10-18T18:48:46.299067Z",
     "shell.execute_reply": "2023-10-18T18:48:46.298715Z",
     "shell.execute_reply.started": "2023-10-18T18:48:46.258704Z"
    },
    "tags": []
   },
   "outputs": [],
   "source": [
    "clinics_tracts"
   ]
  },
  {
   "cell_type": "markdown",
   "metadata": {},
   "source": [
    "Now we see the spatial join has worked. There are 28 matches (one for each clinic) and this is stored in a new GeoDataFrame called: `clinics_tracts`."
   ]
  },
  {
   "cell_type": "markdown",
   "metadata": {},
   "source": [
    "## Determine the number of clinics in each tract\n",
    "\n",
    "Returning to our question, we can find the number of clinics in each of the tracts in this new GeoDataFrame by using the `group_by` method:"
   ]
  },
  {
   "cell_type": "code",
   "execution_count": null,
   "metadata": {
    "execution": {
     "iopub.execute_input": "2023-10-18T18:49:07.841752Z",
     "iopub.status.busy": "2023-10-18T18:49:07.841304Z",
     "iopub.status.idle": "2023-10-18T18:49:07.857673Z",
     "shell.execute_reply": "2023-10-18T18:49:07.857100Z",
     "shell.execute_reply.started": "2023-10-18T18:49:07.841729Z"
    },
    "tags": []
   },
   "outputs": [],
   "source": [
    "clinics_tracts[['geoid', 'index_right']].groupby('geoid').agg('count')"
   ]
  },
  {
   "cell_type": "markdown",
   "metadata": {},
   "source": [
    "This works, so let's create another DataFrame to store these counts:"
   ]
  },
  {
   "cell_type": "code",
   "execution_count": null,
   "metadata": {
    "execution": {
     "iopub.execute_input": "2023-10-18T18:50:02.244501Z",
     "iopub.status.busy": "2023-10-18T18:50:02.243408Z",
     "iopub.status.idle": "2023-10-18T18:50:02.262844Z",
     "shell.execute_reply": "2023-10-18T18:50:02.262160Z",
     "shell.execute_reply.started": "2023-10-18T18:50:02.244451Z"
    },
    "tags": []
   },
   "outputs": [],
   "source": [
    "ct = clinics_tracts[['geoid', 'index_right']].groupby('geoid').agg('count')\n",
    "ct.shape"
   ]
  },
  {
   "cell_type": "markdown",
   "metadata": {},
   "source": [
    "## Table Join\n",
    "\n"
   ]
  },
  {
   "cell_type": "markdown",
   "metadata": {},
   "source": [
    "We now know for the tracts that contain at least one clinic, how many clinics they contain. This implies that the tracts that are not in the `ct` GeoDataFrame do not contain a clinic. What we would like to have is an additional attribute on our `rc` tracts GeoDataFrame that stores the number of clinics in each tract - for all tracts in Riverside County.\n",
    "\n",
    "We can do this in two remaining steps:\n",
    "\n",
    "- a table join on the `geoid` column \n",
    "- setting NA values to 0"
   ]
  },
  {
   "cell_type": "code",
   "execution_count": null,
   "metadata": {
    "execution": {
     "iopub.execute_input": "2023-10-18T18:50:05.032763Z",
     "iopub.status.busy": "2023-10-18T18:50:05.031934Z",
     "iopub.status.idle": "2023-10-18T18:50:05.066004Z",
     "shell.execute_reply": "2023-10-18T18:50:05.065499Z",
     "shell.execute_reply.started": "2023-10-18T18:50:05.032719Z"
    },
    "tags": []
   },
   "outputs": [],
   "source": [
    "rc.merge(ct, on='geoid')"
   ]
  },
  {
   "cell_type": "markdown",
   "metadata": {},
   "source": [
    "Note that this isn't quite what we want as it only matches the 16 tracts containing clinics. We can change the `how` argument to `outer` to include all tracts:"
   ]
  },
  {
   "cell_type": "code",
   "execution_count": null,
   "metadata": {
    "execution": {
     "iopub.execute_input": "2023-10-18T18:50:20.222510Z",
     "iopub.status.busy": "2023-10-18T18:50:20.221586Z",
     "iopub.status.idle": "2023-10-18T18:50:20.254519Z",
     "shell.execute_reply": "2023-10-18T18:50:20.254044Z",
     "shell.execute_reply.started": "2023-10-18T18:50:20.222477Z"
    },
    "tags": []
   },
   "outputs": [],
   "source": [
    "rc.merge(ct, on='geoid', how='outer')"
   ]
  },
  {
   "cell_type": "markdown",
   "metadata": {},
   "source": [
    "Ok now we have all the tracts covered. But if you scroll to the right we will see `NaN` values for the tracts that do not contain a clinic. What remains is to replace the "
   ]
  },
  {
   "cell_type": "code",
   "execution_count": null,
   "metadata": {
    "execution": {
     "iopub.execute_input": "2023-10-18T18:50:48.661001Z",
     "iopub.status.busy": "2023-10-18T18:50:48.659940Z",
     "iopub.status.idle": "2023-10-18T18:50:48.693775Z",
     "shell.execute_reply": "2023-10-18T18:50:48.693281Z",
     "shell.execute_reply.started": "2023-10-18T18:50:48.660949Z"
    },
    "tags": []
   },
   "outputs": [],
   "source": [
    "rc.merge(ct, on='geoid', how='outer').fillna(0)"
   ]
  },
  {
   "cell_type": "markdown",
   "metadata": {},
   "source": [
    "Great. Now we save our work and rename the column holding the clinic count:"
   ]
  },
  {
   "cell_type": "code",
   "execution_count": null,
   "metadata": {
    "execution": {
     "iopub.execute_input": "2023-10-18T18:50:51.852636Z",
     "iopub.status.busy": "2023-10-18T18:50:51.851893Z",
     "iopub.status.idle": "2023-10-18T18:50:51.873970Z",
     "shell.execute_reply": "2023-10-18T18:50:51.873084Z",
     "shell.execute_reply.started": "2023-10-18T18:50:51.852597Z"
    },
    "tags": []
   },
   "outputs": [],
   "source": [
    "rc = rc.merge(ct, on='geoid', how='outer').fillna(0)"
   ]
  },
  {
   "cell_type": "code",
   "execution_count": null,
   "metadata": {
    "execution": {
     "iopub.execute_input": "2023-10-18T18:51:19.913152Z",
     "iopub.status.busy": "2023-10-18T18:51:19.912215Z",
     "iopub.status.idle": "2023-10-18T18:51:21.674136Z",
     "shell.execute_reply": "2023-10-18T18:51:21.673840Z",
     "shell.execute_reply.started": "2023-10-18T18:51:19.913117Z"
    },
    "tags": []
   },
   "outputs": [],
   "source": [
    "rc.plot('clinics', scheme='quantiles')"
   ]
  },
  {
   "cell_type": "code",
   "execution_count": null,
   "metadata": {
    "execution": {
     "iopub.execute_input": "2023-10-18T18:50:52.075391Z",
     "iopub.status.busy": "2023-10-18T18:50:52.074593Z",
     "iopub.status.idle": "2023-10-18T18:50:52.090372Z",
     "shell.execute_reply": "2023-10-18T18:50:52.088772Z",
     "shell.execute_reply.started": "2023-10-18T18:50:52.075342Z"
    },
    "tags": []
   },
   "outputs": [],
   "source": [
    "rc['index_right'].sum()"
   ]
  },
  {
   "cell_type": "code",
   "execution_count": null,
   "metadata": {
    "execution": {
     "iopub.execute_input": "2023-10-18T18:50:52.345241Z",
     "iopub.status.busy": "2023-10-18T18:50:52.344317Z",
     "iopub.status.idle": "2023-10-18T18:50:52.362694Z",
     "shell.execute_reply": "2023-10-18T18:50:52.361733Z",
     "shell.execute_reply.started": "2023-10-18T18:50:52.345197Z"
    },
    "tags": []
   },
   "outputs": [],
   "source": [
    "rc.rename(columns={'index_right': 'clinics'}, inplace=True)"
   ]
  },
  {
   "cell_type": "code",
   "execution_count": null,
   "metadata": {
    "execution": {
     "iopub.execute_input": "2023-10-18T18:50:52.752214Z",
     "iopub.status.busy": "2023-10-18T18:50:52.751480Z",
     "iopub.status.idle": "2023-10-18T18:50:52.771268Z",
     "shell.execute_reply": "2023-10-18T18:50:52.766028Z",
     "shell.execute_reply.started": "2023-10-18T18:50:52.752167Z"
    },
    "tags": []
   },
   "outputs": [],
   "source": [
    "rc.clinics.sum()"
   ]
  },
  {
   "cell_type": "code",
   "execution_count": null,
   "metadata": {
    "execution": {
     "iopub.execute_input": "2023-10-18T18:53:53.232888Z",
     "iopub.status.busy": "2023-10-18T18:53:53.231657Z",
     "iopub.status.idle": "2023-10-18T18:53:53.249835Z",
     "shell.execute_reply": "2023-10-18T18:53:53.249081Z",
     "shell.execute_reply.started": "2023-10-18T18:53:53.232826Z"
    },
    "tags": []
   },
   "outputs": [],
   "source": [
    "socal_wgs = socal.to_crs(4326)"
   ]
  },
  {
   "cell_type": "code",
   "execution_count": null,
   "metadata": {},
   "outputs": [],
   "source": []
  },
  {
   "cell_type": "code",
   "execution_count": null,
   "metadata": {
    "execution": {
     "iopub.execute_input": "2023-10-18T18:54:09.022396Z",
     "iopub.status.busy": "2023-10-18T18:54:09.022075Z",
     "iopub.status.idle": "2023-10-18T18:54:09.103876Z",
     "shell.execute_reply": "2023-10-18T18:54:09.103126Z",
     "shell.execute_reply.started": "2023-10-18T18:54:09.022374Z"
    },
    "tags": []
   },
   "outputs": [],
   "source": [
    "socal_wgs.estimate_utm_crs()"
   ]
  },
  {
   "cell_type": "code",
   "execution_count": null,
   "metadata": {
    "execution": {
     "iopub.execute_input": "2023-10-18T16:21:54.545235Z",
     "iopub.status.busy": "2023-10-18T16:21:54.545087Z",
     "iopub.status.idle": "2023-10-18T16:21:54.553936Z",
     "shell.execute_reply": "2023-10-18T16:21:54.552187Z",
     "shell.execute_reply.started": "2023-10-18T16:21:54.545219Z"
    },
    "tags": []
   },
   "outputs": [],
   "source": [
    "type(rc)"
   ]
  },
  {
   "cell_type": "markdown",
   "metadata": {},
   "source": [
    "<div class=\"alert alert-success\" style=\"font-size:120%\">\n",
    "<b>Exercise</b>: <br>\n",
    "Create a shapefile for each of the counties in the Southern California dataframe, and write to <code>data/FIPSCODE.shp</code>. Where <code>FIPSCODE</code> is the 5-digit\n",
    "<a href=\"https://www.nrcs.usda.gov/wps/portal/nrcs/detail/ca/home/?cid=nrcs143_013697\">FIPS Code for the county</a>.\n",
    "</div>"
   ]
  },
  {
   "cell_type": "code",
   "execution_count": null,
   "metadata": {
    "execution": {
     "iopub.execute_input": "2023-10-18T16:21:54.554846Z",
     "iopub.status.busy": "2023-10-18T16:21:54.554726Z",
     "iopub.status.idle": "2023-10-18T16:21:54.565383Z",
     "shell.execute_reply": "2023-10-18T16:21:54.564632Z",
     "shell.execute_reply.started": "2023-10-18T16:21:54.554822Z"
    }
   },
   "outputs": [],
   "source": [
    "# %load solutions/00.py"
   ]
  },
  {
   "cell_type": "markdown",
   "metadata": {},
   "source": [
    "---\n",
    "\n",
    "<a rel=\"license\" href=\"http://creativecommons.org/licenses/by-nc-\n",
    "sa/4.0/\"><img alt=\"Creative Commons License\" style=\"border-width:0\"\n",
    "src=\"https://i.creativecommons.org/l/by-nc-sa/4.0/88x31.png\" /></a><br /><span\n",
    "xmlns:dct=\"http://purl.org/dc/terms/\" property=\"dct:title\">Geoprocessing</span> by <a xmlns:cc=\"http://creativecommons.org/ns#\"\n",
    "href=\"http://sergerey.org\" property=\"cc:attributionName\"\n",
    "rel=\"cc:attributionURL\">Serge Rey</a> is licensed under a <a\n",
    "rel=\"license\" href=\"http://creativecommons.org/licenses/by-nc-sa/4.0/\">Creative\n",
    "Commons Attribution-NonCommercial-ShareAlike 4.0 International License</a>."
   ]
  }
 ],
 "metadata": {
  "kernelspec": {
   "display_name": "carto_sdsc24",
   "language": "python",
   "name": "python3"
  },
  "language_info": {
   "codemirror_mode": {
    "name": "ipython",
    "version": 3
   },
   "file_extension": ".py",
   "mimetype": "text/x-python",
   "name": "python",
   "nbconvert_exporter": "python",
   "pygments_lexer": "ipython3",
   "version": "3.11.8"
  },
  "widgets": {
   "application/vnd.jupyter.widget-state+json": {
    "state": {},
    "version_major": 2,
    "version_minor": 0
   }
  }
 },
 "nbformat": 4,
 "nbformat_minor": 4
}
