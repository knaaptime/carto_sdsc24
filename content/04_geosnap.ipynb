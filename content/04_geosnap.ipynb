{
 "cells": [
  {
   "cell_type": "markdown",
   "id": "aee16e12-0d4b-4ec6-8cc5-f57d225bc210",
   "metadata": {},
   "source": [
    "# Open Tools for Urban, Regional, and Neighborhood Science\n",
    "\n",
    "**A Gentle Introduction to `geosnap` for Neighborhood Analytics**\n",
    "\n",
    "https://github.com/oturns/geosnap"
   ]
  },
  {
   "cell_type": "markdown",
   "id": "e451a5f2-bbac-476e-a2a7-3afa66c9ce17",
   "metadata": {},
   "source": [
    "### Resources:\n",
    "\n",
    "- [API Docs](https://oturns.github.io/geosnap/api.html)\n",
    "- [Tutorial Materials](https://github.com/knaaptime/pysal-narsc22/)\n",
    "- [Tutorial Video](https://www.youtube.com/watch?v=4AHJVMs7iH4)"
   ]
  },
  {
   "cell_type": "markdown",
   "id": "11ea0904-b76e-446f-a287-3748cb017e48",
   "metadata": {},
   "source": [
    "`geosnap` - the geospatial neighborhood analysis package - provides a suite of tools for understanding the composition and extent of [endogenous] neighborhoods and regions in a study area. It provides: \n",
    "\n",
    " - simple access to commonly-used datasets in urban and regional analyses (https://open.quiltdata.com/b/spatial-ucr)\n",
    "     - demographic data (Census/ACS)\n",
    "     - employment (LEHD)\n",
    "     - environment (EPA)\n",
    "     - travel infrastructure (OSM)\n",
    "     - public education systems (NCES)\n",
    "     - educational acievement (SEDA)\n",
    "     - land use/land cover (NLCD)\n",
    "\n",
    " - an easy interface to build geodemographic typologies\n",
    "     - classic aspatial typologies\n",
    "     - constrained homogenous regions\n",
    "\n",
    " - built-in functionality to facilitate spatiotemporal analysis\n",
    "     - within time-period standardization\n",
    "     - boundary harmonization\n",
    "     - inflation adjustment\n",
    "\n",
    " - bespoke plotting tools to help visualize neighborhood dynamics\n",
    "    - temporally-static choropleth mapping\n",
    "    - animated mapping\n",
    "\n",
    " - state-of-the-art techniques for modeling neighborhood change over time\n",
    "     - spatial Markov transition models\n",
    "     - sequence analysis"
   ]
  },
  {
   "cell_type": "code",
   "execution_count": null,
   "id": "f4e89a03-3328-4224-9420-efc7e326a7d1",
   "metadata": {},
   "outputs": [],
   "source": [
    "import geopandas as gpd\n",
    "import matplotlib.pyplot as plt\n",
    "import numpy as np\n",
    "import pandas as pd\n",
    "from geosnap import DataStore\n",
    "from geosnap.io import get_acs, get_census, get_nces"
   ]
  },
  {
   "cell_type": "markdown",
   "id": "7a9b0264-000b-4b52-960d-015e9e2006c8",
   "metadata": {},
   "source": [
    "## Datasets"
   ]
  },
  {
   "cell_type": "code",
   "execution_count": null,
   "id": "9e504872-52c7-4031-8186-1728c61afc16",
   "metadata": {
    "tags": []
   },
   "outputs": [],
   "source": [
    "datasets = DataStore()"
   ]
  },
  {
   "cell_type": "code",
   "execution_count": null,
   "id": "8c31f7d5-fbf5-45ed-a740-ce39fbc60627",
   "metadata": {
    "tags": []
   },
   "outputs": [],
   "source": [
    "dir(datasets)"
   ]
  },
  {
   "cell_type": "code",
   "execution_count": null,
   "id": "3c2d212e-8abb-4ce6-b890-fa2968d344cb",
   "metadata": {
    "tags": []
   },
   "outputs": [],
   "source": [
    "datasets.show_data_dir()"
   ]
  },
  {
   "cell_type": "code",
   "execution_count": null,
   "id": "4718d9ab-9d0d-49e5-9777-805d71cbcf53",
   "metadata": {
    "tags": []
   },
   "outputs": [],
   "source": [
    "msas = datasets.msas()\n",
    "msas"
   ]
  },
  {
   "cell_type": "code",
   "execution_count": null,
   "id": "edc6ca84-99c1-47c4-8ffa-ee03d46ae373",
   "metadata": {
    "tags": []
   },
   "outputs": [],
   "source": [
    "msas = msas[msas['type'].str.startswith('Metro')]"
   ]
  },
  {
   "cell_type": "code",
   "execution_count": null,
   "id": "9535322c-3214-4cb8-af2b-33335b154707",
   "metadata": {
    "tags": []
   },
   "outputs": [],
   "source": [
    "msas.plot()"
   ]
  },
  {
   "cell_type": "code",
   "execution_count": null,
   "id": "a8613555-25e5-4c00-a675-967095bff8fd",
   "metadata": {
    "tags": []
   },
   "outputs": [],
   "source": [
    "msas.head(50).explore()"
   ]
  },
  {
   "cell_type": "code",
   "execution_count": null,
   "id": "b4c156b7-886b-4914-a3a6-2c2941e0c9d5",
   "metadata": {},
   "outputs": [],
   "source": []
  },
  {
   "cell_type": "code",
   "execution_count": null,
   "id": "3e4444ea-4e9d-47d5-ae6e-7bcdf976826c",
   "metadata": {},
   "outputs": [],
   "source": []
  },
  {
   "cell_type": "code",
   "execution_count": null,
   "id": "a3929161-a052-4339-9e48-309d4ac46827",
   "metadata": {
    "tags": []
   },
   "outputs": [],
   "source": [
    "# SF and Alameda counties\n",
    "\n",
    "counties = [\"06075\", \"06001\"]"
   ]
  },
  {
   "cell_type": "code",
   "execution_count": null,
   "id": "98f50bae-7ca7-40c5-9452-36156858e7df",
   "metadata": {},
   "outputs": [],
   "source": [
    "get_acs?"
   ]
  },
  {
   "cell_type": "code",
   "execution_count": null,
   "id": "8b5c4963-1f6c-4c9d-a1a7-762a760c8938",
   "metadata": {},
   "outputs": [],
   "source": [
    "acs_teens = get_acs(\n",
    "    datasets, county_fips=counties, years=[2016, 2017, 2018], level=\"tract\"\n",
    ")"
   ]
  },
  {
   "cell_type": "code",
   "execution_count": null,
   "id": "665d2dbf-ad9b-4499-94f7-27c766ebae80",
   "metadata": {},
   "outputs": [],
   "source": [
    "acs_teens.head()"
   ]
  },
  {
   "cell_type": "code",
   "execution_count": null,
   "id": "6f6e4b32-2ce9-4107-8075-bd62d567a461",
   "metadata": {
    "tags": []
   },
   "outputs": [],
   "source": [
    "acs_teens[acs_teens.year == 2018].explore(\n",
    "    \"p_nonhisp_white_persons\",\n",
    "    scheme=\"quantiles\",\n",
    "    tiles=\"CartoDB Positron\",\n",
    "    cmap=\"GnBu\",\n",
    "    tooltip=[\"p_nonhisp_white_persons\", \"geoid\"],\n",
    ")"
   ]
  },
  {
   "cell_type": "code",
   "execution_count": null,
   "id": "b7d36653-fe73-49c9-9ac2-adcf3e661955",
   "metadata": {},
   "outputs": [],
   "source": [
    "acs_teens.year.unique()"
   ]
  },
  {
   "cell_type": "code",
   "execution_count": null,
   "id": "480d5d19-0d26-4906-86b0-df66f4fb9f4e",
   "metadata": {},
   "outputs": [],
   "source": [
    "acs_teens[acs_teens.year == 2018].shape"
   ]
  },
  {
   "cell_type": "code",
   "execution_count": null,
   "id": "5b4b8c30-8c12-4294-bda3-808b70b2edcd",
   "metadata": {
    "tags": []
   },
   "outputs": [],
   "source": [
    "for year in acs_teens.year.unique():\n",
    "    print(acs_teens[acs_teens.year == year].shape[0])"
   ]
  },
  {
   "cell_type": "code",
   "execution_count": null,
   "id": "4eb6073e-8f70-4343-9d65-fc35ae956246",
   "metadata": {
    "tags": []
   },
   "outputs": [],
   "source": [
    "census = get_census(datasets, county_fips=counties)"
   ]
  },
  {
   "cell_type": "code",
   "execution_count": null,
   "id": "c12c46fc-6381-476e-9315-00e3b0bfbe9e",
   "metadata": {
    "tags": []
   },
   "outputs": [],
   "source": [
    "census.year.unique()"
   ]
  },
  {
   "cell_type": "code",
   "execution_count": null,
   "id": "4d8b41e2-f0ab-4f92-817b-3e9914899ca3",
   "metadata": {
    "tags": []
   },
   "outputs": [],
   "source": [
    "for year in census.year.unique():\n",
    "    print(census[census.year == year].shape[0])"
   ]
  },
  {
   "cell_type": "markdown",
   "id": "88cc7c03-5748-4af1-b6bd-ed035bbf9763",
   "metadata": {},
   "source": [
    "## Standardizing Boundaries Over Time"
   ]
  },
  {
   "cell_type": "code",
   "execution_count": null,
   "id": "7f449bdc-f24c-4d87-8ad3-0e651ea8f135",
   "metadata": {},
   "outputs": [],
   "source": [
    "from geosnap.harmonize import harmonize"
   ]
  },
  {
   "cell_type": "code",
   "execution_count": null,
   "id": "2e8e6162-0a3f-43da-bfff-42d705806782",
   "metadata": {},
   "outputs": [],
   "source": [
    "harmonize?"
   ]
  },
  {
   "cell_type": "code",
   "execution_count": null,
   "id": "940de4a8-3867-4aad-9077-0047ea946a97",
   "metadata": {
    "tags": []
   },
   "outputs": [],
   "source": [
    "columns = [\n",
    "    \"median_household_income\",\n",
    "    \"median_home_value\",\n",
    "    \"p_asian_persons\",\n",
    "    \"p_hispanic_persons\",\n",
    "    \"p_nonhisp_black_persons\",\n",
    "    \"p_nonhisp_white_persons\",\n",
    "]"
   ]
  },
  {
   "cell_type": "code",
   "execution_count": null,
   "id": "78d48e0c-9dba-4852-a1e3-8bdd04a73904",
   "metadata": {
    "tags": []
   },
   "outputs": [],
   "source": [
    "census = harmonize(\n",
    "    census.set_index(\"geoid\"),\n",
    "    target_year=2010,\n",
    "    intensive_variables=columns,\n",
    "    extensive_variables=[\"n_total_pop\"],\n",
    ")"
   ]
  },
  {
   "cell_type": "code",
   "execution_count": null,
   "id": "f6c9c438-4e68-4ec7-999c-43bff5a9a779",
   "metadata": {},
   "outputs": [],
   "source": [
    "census = census.reset_index()"
   ]
  },
  {
   "cell_type": "code",
   "execution_count": null,
   "id": "2715569c-fde0-439c-ab6b-95a841e2d56d",
   "metadata": {},
   "outputs": [],
   "source": [
    "for year in census.year.unique():\n",
    "    print(census[census.year == year].shape[0])"
   ]
  },
  {
   "cell_type": "code",
   "execution_count": null,
   "id": "76770072-ea5e-4c93-8c5c-de5d136c85f7",
   "metadata": {
    "tags": []
   },
   "outputs": [],
   "source": [
    "census[census.year == 1990].explore(\n",
    "    \"p_nonhisp_white_persons\", scheme=\"quantiles\", k=6, cmap=\"GnBu\"\n",
    ")"
   ]
  },
  {
   "cell_type": "code",
   "execution_count": null,
   "id": "fa8d6689-87c7-4173-b3b9-20ebf079997a",
   "metadata": {},
   "outputs": [],
   "source": []
  },
  {
   "cell_type": "code",
   "execution_count": null,
   "id": "a08912d3-1981-4e61-877c-581d77bebdb4",
   "metadata": {},
   "outputs": [],
   "source": []
  },
  {
   "cell_type": "code",
   "execution_count": null,
   "id": "49bae8a5-357c-44ed-8e9d-bff085af8fc1",
   "metadata": {},
   "outputs": [],
   "source": []
  },
  {
   "cell_type": "markdown",
   "id": "81675010-3786-416c-aa19-939413ac19f3",
   "metadata": {},
   "source": [
    "## Geodemographic Neighborhood Types"
   ]
  },
  {
   "cell_type": "code",
   "execution_count": null,
   "id": "39d1eaa2-98b6-4d33-9832-369e9dadf870",
   "metadata": {},
   "outputs": [],
   "source": [
    "from geosnap.analyze import cluster, transition\n",
    "from geosnap.visualize import (\n",
    "    animate_timeseries,\n",
    "    plot_timeseries,\n",
    "    plot_transition_matrix,\n",
    ")"
   ]
  },
  {
   "cell_type": "code",
   "execution_count": null,
   "id": "9ca3bb3e-5abe-44c3-8d19-072cea5d4df2",
   "metadata": {},
   "outputs": [],
   "source": [
    "import seaborn as sns"
   ]
  },
  {
   "cell_type": "code",
   "execution_count": null,
   "id": "75287060-a866-4b4c-8f1b-1976f9082285",
   "metadata": {
    "tags": []
   },
   "outputs": [],
   "source": [
    "sns.set_style(None)"
   ]
  },
  {
   "cell_type": "code",
   "execution_count": null,
   "id": "f7686b07-b458-4ab4-b68e-db79e9576f81",
   "metadata": {},
   "outputs": [],
   "source": [
    "acs18 = acs_teens[acs_teens.year == 2018]"
   ]
  },
  {
   "cell_type": "code",
   "execution_count": null,
   "id": "b05611de-46e7-4809-8732-239243027e31",
   "metadata": {
    "tags": []
   },
   "outputs": [],
   "source": [
    "for col in columns:\n",
    "    ax = acs18.plot(\n",
    "        col,\n",
    "        scheme=\"quantiles\",\n",
    "        k=6,\n",
    "    )\n",
    "    ax.set_title(col)"
   ]
  },
  {
   "cell_type": "code",
   "execution_count": null,
   "id": "853e70a3-24e6-43bf-8517-2c86e1af0484",
   "metadata": {},
   "outputs": [],
   "source": [
    "sf18_kmeans = cluster(acs18, columns=columns, method=\"kmeans\", n_clusters=6)"
   ]
  },
  {
   "cell_type": "code",
   "execution_count": null,
   "id": "a78459d8-a1cd-40d1-bfcc-bb791291d4f9",
   "metadata": {},
   "outputs": [],
   "source": [
    "sf18_kmeans.head()"
   ]
  },
  {
   "cell_type": "code",
   "execution_count": null,
   "id": "80d5cbe8-e67c-4343-b5ad-34edc3370f82",
   "metadata": {
    "tags": []
   },
   "outputs": [],
   "source": [
    "from geosnap import visualize as gvz"
   ]
  },
  {
   "cell_type": "code",
   "execution_count": null,
   "id": "af731c05-e124-4a01-81b4-1efe60c0d0ee",
   "metadata": {
    "tags": []
   },
   "outputs": [],
   "source": [
    "sf18_kmeans.explore(\n",
    "    \"kmeans\", categorical=True, tiles=\"CartoDB Positron\", tooltip=columns\n",
    ")"
   ]
  },
  {
   "cell_type": "markdown",
   "id": "93553f6b-4439-4a86-ade8-1ba01ade8307",
   "metadata": {},
   "source": [
    "changing the number of number of clusters"
   ]
  },
  {
   "cell_type": "code",
   "execution_count": null,
   "id": "75b733cb-131a-4e0e-8ef3-b13690eefc3b",
   "metadata": {
    "tags": []
   },
   "outputs": [],
   "source": [
    "sf18_kmeans10 = cluster(acs18, columns=columns, method=\"kmeans\", n_clusters=10)"
   ]
  },
  {
   "cell_type": "code",
   "execution_count": null,
   "id": "bd2aa991-cae1-455c-86f9-da1e9d851577",
   "metadata": {
    "tags": []
   },
   "outputs": [],
   "source": [
    "sf18_kmeans10.explore(\"kmeans\")"
   ]
  },
  {
   "cell_type": "code",
   "execution_count": null,
   "id": "9364ba9a-105a-419f-80d3-2fcef7ab425f",
   "metadata": {
    "tags": []
   },
   "outputs": [],
   "source": [
    "gvz.plot_violins_by_cluster?"
   ]
  },
  {
   "cell_type": "code",
   "execution_count": null,
   "id": "94ff9417-9333-45b9-b506-8bc6c5dc2fff",
   "metadata": {
    "tags": []
   },
   "outputs": [],
   "source": [
    "sns.set_style(\"whitegrid\")"
   ]
  },
  {
   "cell_type": "code",
   "execution_count": null,
   "id": "7252593a-89e4-4494-a692-60f62d19a24c",
   "metadata": {
    "tags": []
   },
   "outputs": [],
   "source": [
    "gvz.plot_violins_by_cluster(\n",
    "    sf18_kmeans,\n",
    "    columns,\n",
    "    cluster_col=\"kmeans\",\n",
    "    violin_kwargs={\"palette\": \"Set1\"},\n",
    "    nrows=3,\n",
    "    ncols=2,\n",
    ")"
   ]
  },
  {
   "cell_type": "code",
   "execution_count": null,
   "id": "7a0317f0-87f7-4c4f-8d2b-c1f391dd1a43",
   "metadata": {
    "tags": []
   },
   "outputs": [],
   "source": [
    "gvz.plot_violins_by_cluster(\n",
    "    sf18_kmeans10,\n",
    "    columns,\n",
    "    cluster_col=\"kmeans\",\n",
    "    violin_kwargs={\"palette\": \"Set1\"},\n",
    "    nrows=3,\n",
    "    ncols=2,\n",
    ")"
   ]
  },
  {
   "cell_type": "code",
   "execution_count": null,
   "id": "7463a043-7e12-46c8-883e-2837629a2add",
   "metadata": {},
   "outputs": [],
   "source": []
  },
  {
   "cell_type": "markdown",
   "id": "b18e006f-a87b-46af-a534-2a63620def85",
   "metadata": {},
   "source": [
    "changing the clustering algorithm"
   ]
  },
  {
   "cell_type": "code",
   "execution_count": null,
   "id": "ac99597e-b878-41ba-b3d1-ac6aa5cc477d",
   "metadata": {
    "tags": []
   },
   "outputs": [],
   "source": [
    "sf18_ward = cluster(acs18, columns=columns, method=\"ward\", n_clusters=6)"
   ]
  },
  {
   "cell_type": "code",
   "execution_count": null,
   "id": "a69913b3-51d1-4fc2-a823-17c4cc331f77",
   "metadata": {
    "tags": []
   },
   "outputs": [],
   "source": [
    "sf18_ward.explore(\"ward\", categorical=True, tiles=\"CartoDB Positron\", tooltip=columns)"
   ]
  },
  {
   "cell_type": "code",
   "execution_count": null,
   "id": "f416f860-ee51-4a66-9653-4c5301e1c9b8",
   "metadata": {
    "tags": []
   },
   "outputs": [],
   "source": [
    "_, kmeans_mod = cluster(\n",
    "    acs18, columns=columns, method=\"kmeans\", n_clusters=6, return_model=True\n",
    ")\n",
    "\n",
    "_, ward_mod = cluster(\n",
    "    acs18, columns=columns, method=\"ward\", n_clusters=6, return_model=True\n",
    ")"
   ]
  },
  {
   "cell_type": "code",
   "execution_count": null,
   "id": "fc7f8ecc-0c67-477c-9a44-ee80c6468cef",
   "metadata": {
    "tags": []
   },
   "outputs": [],
   "source": [
    "kmeans_mod.silhouette_score"
   ]
  },
  {
   "cell_type": "code",
   "execution_count": null,
   "id": "1fb2d77d-2c13-4754-aa8f-9044596a5450",
   "metadata": {
    "tags": []
   },
   "outputs": [],
   "source": [
    "ward_mod.silhouette_score"
   ]
  },
  {
   "cell_type": "markdown",
   "id": "938786d7-bcb1-4080-8823-fd2a5515ea92",
   "metadata": {},
   "source": [
    "So according to the silhouette score, the kmeans model fits better"
   ]
  },
  {
   "cell_type": "code",
   "execution_count": null,
   "id": "9a6eecc1-072e-4e9d-bc76-f846d5fb9d3c",
   "metadata": {
    "tags": []
   },
   "outputs": [],
   "source": [
    "sf18_ward = cluster(\n",
    "    acs18,\n",
    "    columns=columns,\n",
    "    method=\"ward\",\n",
    "    n_clusters=6,\n",
    ")"
   ]
  },
  {
   "cell_type": "code",
   "execution_count": null,
   "id": "08dd2b8c-90b2-40c1-a3b9-9a3c51e1030e",
   "metadata": {
    "tags": []
   },
   "outputs": [],
   "source": [
    "sf18_kmeans10.explore(\n",
    "    \"kmeans\", categorical=True, tiles=\"CartoDB Positron\", tooltip=columns\n",
    ")"
   ]
  },
  {
   "cell_type": "code",
   "execution_count": null,
   "id": "0595c5ab-f2e0-41f9-a2a2-aa961fab22c6",
   "metadata": {
    "tags": []
   },
   "outputs": [],
   "source": [
    "from geosnap.analyze import regionalize"
   ]
  },
  {
   "cell_type": "code",
   "execution_count": null,
   "id": "a1d78fd2-f8e2-4e45-805d-4c3740d27ed6",
   "metadata": {
    "tags": []
   },
   "outputs": [],
   "source": [
    "sf_regions = regionalize(acs18, columns=columns, method=\"ward_spatial\", n_clusters=10)"
   ]
  },
  {
   "cell_type": "code",
   "execution_count": null,
   "id": "10b26aa5-62c5-40d7-80a6-20724ec4fadd",
   "metadata": {
    "tags": []
   },
   "outputs": [],
   "source": [
    "sf_regions.explore(\n",
    "    \"ward_spatial\", categorical=True, tiles=\"CartoDB Positron\", tooltip=columns\n",
    ")"
   ]
  },
  {
   "cell_type": "code",
   "execution_count": null,
   "id": "64cb11ce-7aab-42df-8791-01260a84682d",
   "metadata": {
    "tags": []
   },
   "outputs": [],
   "source": [
    "gvz.plot_violins_by_cluster(sf_regions, columns, \"ward_spatial\", nrows=3, ncols=2)"
   ]
  },
  {
   "cell_type": "code",
   "execution_count": null,
   "id": "c9b2905f-eb3c-45b5-8ab2-3ab9ba0ebb65",
   "metadata": {},
   "outputs": [],
   "source": []
  },
  {
   "cell_type": "markdown",
   "id": "741ffd61-b504-4c6e-8f6a-1077327343df",
   "metadata": {},
   "source": [
    "## Modeling Neighborhood Change"
   ]
  },
  {
   "cell_type": "code",
   "execution_count": null,
   "id": "882de81d-c9c7-4acf-bfeb-3bc9a12ef0ab",
   "metadata": {
    "tags": []
   },
   "outputs": [],
   "source": [
    "sf_types_kmeans = cluster(acs_teens, columns=columns, method=\"kmeans\", n_clusters=6)"
   ]
  },
  {
   "cell_type": "code",
   "execution_count": null,
   "id": "0769bfc9-2c88-4e2c-b8ab-ca0812e1b787",
   "metadata": {
    "tags": []
   },
   "outputs": [],
   "source": [
    "plot_timeseries?"
   ]
  },
  {
   "cell_type": "code",
   "execution_count": null,
   "id": "7100d262-8ca5-4269-988d-bcb22d80a619",
   "metadata": {
    "tags": []
   },
   "outputs": [],
   "source": [
    "import contextily as ctx"
   ]
  },
  {
   "cell_type": "code",
   "execution_count": null,
   "id": "2647a1c4-6866-4862-ab67-c4ac23886af2",
   "metadata": {
    "tags": []
   },
   "outputs": [],
   "source": [
    "plot_timeseries(\n",
    "    sf_types_kmeans,\n",
    "    column=\"median_home_value\",\n",
    "    scheme=\"quantiles\",\n",
    "    k=6,\n",
    "    ncols=3,\n",
    "    nrows=1,\n",
    "    figsize=(15, 5),\n",
    "    ctxmap=ctx.providers.CartoDB.Positron,\n",
    ")"
   ]
  },
  {
   "cell_type": "code",
   "execution_count": null,
   "id": "59bcd120-5c94-4713-8dc0-bc96dc6654f5",
   "metadata": {
    "tags": []
   },
   "outputs": [],
   "source": [
    "plot_timeseries(\n",
    "    sf_types_kmeans,\n",
    "    column=\"kmeans\",\n",
    "    categorical=True,\n",
    "    ncols=3,\n",
    "    nrows=1,\n",
    "    figsize=(15, 5),\n",
    "    ctxmap=ctx.providers.CartoDB.Positron,\n",
    ")"
   ]
  },
  {
   "cell_type": "code",
   "execution_count": null,
   "id": "7a10ec9b-1ede-4463-b4e6-4ea4b7723d80",
   "metadata": {
    "tags": []
   },
   "outputs": [],
   "source": [
    "animate_timeseries(\n",
    "    sf_types_kmeans,\n",
    "    column=\"kmeans\",\n",
    "    categorical=True,\n",
    "    filename=\"sf_kmeans.gif\",\n",
    "    figsize=(12, 8),\n",
    "    fps=3,\n",
    "    ctxmap=ctx.providers.CartoDB.Positron,\n",
    ")"
   ]
  },
  {
   "cell_type": "code",
   "execution_count": null,
   "id": "b3ee80de-2472-4ae8-ac88-08a7b7456923",
   "metadata": {
    "tags": []
   },
   "outputs": [],
   "source": [
    "from IPython.display import Image"
   ]
  },
  {
   "cell_type": "code",
   "execution_count": null,
   "id": "86c9a6ca-a368-4a74-9513-1686ec9a87a7",
   "metadata": {
    "tags": []
   },
   "outputs": [],
   "source": [
    "Image(\"sf_kmeans.gif\")"
   ]
  },
  {
   "cell_type": "code",
   "execution_count": null,
   "id": "9c5b1d0a-9a24-43e4-a730-f243e3a20dda",
   "metadata": {
    "tags": []
   },
   "outputs": [],
   "source": [
    "spmk = transition(sf_types_kmeans, cluster_col=\"kmeans\")"
   ]
  },
  {
   "cell_type": "code",
   "execution_count": null,
   "id": "9837661e-46e7-43fe-b0b2-a76c0849e798",
   "metadata": {
    "tags": []
   },
   "outputs": [],
   "source": [
    "type(spmk)"
   ]
  },
  {
   "cell_type": "code",
   "execution_count": null,
   "id": "10b57c2a-bc8c-4065-a6d9-9619a375dac4",
   "metadata": {
    "tags": []
   },
   "outputs": [],
   "source": [
    "spmk.p"
   ]
  },
  {
   "cell_type": "code",
   "execution_count": null,
   "id": "7de73413-44a7-4a73-a290-fb4c022b8c71",
   "metadata": {
    "tags": []
   },
   "outputs": [],
   "source": [
    "spmk.LR_p_value  # strong evidence of spatial dependence in transition dynamics"
   ]
  },
  {
   "cell_type": "code",
   "execution_count": null,
   "id": "e06601a2-9a15-4f4e-8fd6-bf991489fc62",
   "metadata": {
    "tags": []
   },
   "outputs": [],
   "source": [
    "plot_transition_matrix(sf_types_kmeans, cluster_col=\"kmeans\")"
   ]
  },
  {
   "cell_type": "code",
   "execution_count": null,
   "id": "aa910662-52c0-4006-b104-7670ad4936d9",
   "metadata": {},
   "outputs": [],
   "source": []
  },
  {
   "cell_type": "code",
   "execution_count": null,
   "id": "ec9654b2-c24b-48fd-8e2f-8239117d17d5",
   "metadata": {},
   "outputs": [],
   "source": []
  },
  {
   "cell_type": "markdown",
   "id": "37eec29c-a237-4a99-9dcb-3a11b525b462",
   "metadata": {},
   "source": [
    "## Accessibility Isochrones"
   ]
  },
  {
   "cell_type": "code",
   "execution_count": null,
   "id": "cfd433eb-e362-460d-8887-9f23351ee484",
   "metadata": {
    "tags": []
   },
   "outputs": [],
   "source": [
    "import pandana as pdna"
   ]
  },
  {
   "cell_type": "markdown",
   "id": "f9eb23de-0874-4455-a1f1-24d0a4e348db",
   "metadata": {},
   "source": [
    "https://github.com/udst/pandana"
   ]
  },
  {
   "cell_type": "code",
   "execution_count": null,
   "id": "4d13dd59-628f-44ce-9200-9cfc6ed7d6cc",
   "metadata": {
    "tags": []
   },
   "outputs": [],
   "source": [
    "sfnet = pdna.Network.from_hdf5(\"data/41860.h5\")"
   ]
  },
  {
   "cell_type": "code",
   "execution_count": null,
   "id": "b6e88868-e9be-466a-9c17-25ff7fa1fa6a",
   "metadata": {
    "tags": []
   },
   "outputs": [],
   "source": [
    "from geosnap.analyze import isochrones_from_id, isochrones_from_gdf"
   ]
  },
  {
   "cell_type": "code",
   "execution_count": null,
   "id": "947f30c2-933f-45fc-9e11-695c1e8dd86c",
   "metadata": {
    "tags": []
   },
   "outputs": [],
   "source": [
    "from geopandas.tools import geocode"
   ]
  },
  {
   "cell_type": "code",
   "execution_count": null,
   "id": "7d972625-75f4-4277-9420-9ac96344f785",
   "metadata": {
    "tags": []
   },
   "outputs": [],
   "source": [
    "import geopy\n",
    "\n",
    "geopy.geocoders.options.default_user_agent = \"geosnap-demo\""
   ]
  },
  {
   "cell_type": "code",
   "execution_count": null,
   "id": "eaf393b7-85fa-4611-b45e-3b8a16c34ae4",
   "metadata": {
    "tags": []
   },
   "outputs": [],
   "source": [
    "berkeley = geocode(\n",
    "    \"university of california, berkeley\",\n",
    "    provider=\"Nominatim\",\n",
    "    user_agent=\"geosnap_v2\",\n",
    "    timeout=None,\n",
    ")"
   ]
  },
  {
   "cell_type": "code",
   "execution_count": null,
   "id": "b7c3d5ec-0b09-4eec-955a-6652d2f82ece",
   "metadata": {
    "tags": []
   },
   "outputs": [],
   "source": [
    "berkeley.explore()"
   ]
  },
  {
   "cell_type": "code",
   "execution_count": null,
   "id": "96389faa-8e1e-4b42-8292-05886028ca9b",
   "metadata": {
    "tags": []
   },
   "outputs": [],
   "source": [
    "isochrones_from_id?"
   ]
  },
  {
   "cell_type": "code",
   "execution_count": null,
   "id": "8de9397e-98c7-4e84-84c1-6210309a6dc8",
   "metadata": {
    "tags": []
   },
   "outputs": [],
   "source": [
    "# must provide the nearest node_id to the isochrone function\n",
    "sfnet.get_node_ids(berkeley.geometry.x, berkeley.geometry.y)"
   ]
  },
  {
   "cell_type": "code",
   "execution_count": null,
   "id": "3418683a-9e78-428c-9dcc-126cdc48150d",
   "metadata": {
    "tags": []
   },
   "outputs": [],
   "source": [
    "iso_berkeley = isochrones_from_id(\n",
    "    sfnet.get_node_ids(berkeley.geometry.x, berkeley.geometry.y)[0],\n",
    "    sfnet,\n",
    "    [500, 1000, 2000, 5000],\n",
    ")"
   ]
  },
  {
   "cell_type": "code",
   "execution_count": null,
   "id": "a97e2fd8-70d9-4f0e-95a0-334eacdc00b5",
   "metadata": {
    "tags": []
   },
   "outputs": [],
   "source": [
    "iso_berkeley.explore()"
   ]
  },
  {
   "cell_type": "code",
   "execution_count": null,
   "id": "31b15929-ad39-420c-8de7-17adc053b58f",
   "metadata": {
    "tags": []
   },
   "outputs": [],
   "source": [
    "isochrones?"
   ]
  },
  {
   "cell_type": "code",
   "execution_count": null,
   "id": "a6c2ffdc-b21c-49a6-a936-858e3c5c3f1b",
   "metadata": {
    "tags": []
   },
   "outputs": [],
   "source": [
    "schools = datasets.nces(dataset=\"schools\")"
   ]
  },
  {
   "cell_type": "code",
   "execution_count": null,
   "id": "6ff5b706-aaca-4ca2-b8b7-054b566d3324",
   "metadata": {
    "tags": []
   },
   "outputs": [],
   "source": [
    "schools.plot()"
   ]
  },
  {
   "cell_type": "code",
   "execution_count": null,
   "id": "da71a544-bea1-4dde-95a3-9f06033ebd9a",
   "metadata": {
    "tags": []
   },
   "outputs": [],
   "source": [
    "sf_schools = schools[schools.intersects(census.to_crs(schools.crs).unary_union)]"
   ]
  },
  {
   "cell_type": "code",
   "execution_count": null,
   "id": "e8f4e852-587b-44f5-8832-4bffa5199a55",
   "metadata": {
    "tags": []
   },
   "outputs": [],
   "source": [
    "sf_schools.plot()"
   ]
  },
  {
   "cell_type": "code",
   "execution_count": null,
   "id": "c944c7e0-9761-46b1-9577-4d567d88ff89",
   "metadata": {
    "tags": []
   },
   "outputs": [],
   "source": [
    "iso_2km = isochrones_from_gdf(sf_schools.head(20), network=sfnet, threshold=2000)"
   ]
  },
  {
   "cell_type": "code",
   "execution_count": null,
   "id": "84907760-ccd3-4fdb-977c-05a5f1f9b8b9",
   "metadata": {
    "tags": []
   },
   "outputs": [],
   "source": [
    "m = sf_schools.head(20).explore()\n",
    "iso_2km.explore(m=m)"
   ]
  },
  {
   "cell_type": "code",
   "execution_count": null,
   "id": "db7f374e-55ca-40c6-8e0b-c12c8b97fb99",
   "metadata": {},
   "outputs": [],
   "source": []
  },
  {
   "cell_type": "code",
   "execution_count": null,
   "id": "bb76c196-07f0-470c-a02f-938d15a19a6e",
   "metadata": {},
   "outputs": [],
   "source": []
  }
 ],
 "metadata": {
  "kernelspec": {
   "display_name": "Python [conda env:carto_sdsc24]",
   "language": "python",
   "name": "conda-env-carto_sdsc24-py"
  },
  "language_info": {
   "codemirror_mode": {
    "name": "ipython",
    "version": 3
   },
   "file_extension": ".py",
   "mimetype": "text/x-python",
   "name": "python",
   "nbconvert_exporter": "python",
   "pygments_lexer": "ipython3",
   "version": "3.12.2"
  },
  "widgets": {
   "application/vnd.jupyter.widget-state+json": {
    "state": {
     "12764faecda945eeb6f9a52c10988638": {
      "model_module": "@jupyter-widgets/base",
      "model_module_version": "2.0.0",
      "model_name": "LayoutModel",
      "state": {}
     },
     "51d8c858ac6c4ac78077449afeab0652": {
      "model_module": "@jupyter-widgets/controls",
      "model_module_version": "2.0.0",
      "model_name": "HTMLStyleModel",
      "state": {
       "description_width": "",
       "font_size": null,
       "text_color": null
      }
     },
     "5a309c80026a41b386350eb02df3e7da": {
      "model_module": "@jupyter-widgets/controls",
      "model_module_version": "2.0.0",
      "model_name": "HTMLModel",
      "state": {
       "layout": "IPY_MODEL_fb29151d542048aa98bf0c193d2d78ca",
       "style": "IPY_MODEL_51d8c858ac6c4ac78077449afeab0652",
       "value": "Complete: 100%"
      }
     },
     "5b167398dbba42e0a4d25f92e14e1dc3": {
      "model_module": "@jupyter-widgets/controls",
      "model_module_version": "2.0.0",
      "model_name": "HTMLModel",
      "state": {
       "layout": "IPY_MODEL_62710796013745c2936ac007b572dcaa",
       "style": "IPY_MODEL_5ba6a8dd9a754de0b219e9a2bb525e7b",
       "value": " 2/2 [00:00&lt;00:00,  3.24it/s]"
      }
     },
     "5ba6a8dd9a754de0b219e9a2bb525e7b": {
      "model_module": "@jupyter-widgets/controls",
      "model_module_version": "2.0.0",
      "model_name": "HTMLStyleModel",
      "state": {
       "description_width": "",
       "font_size": null,
       "text_color": null
      }
     },
     "62710796013745c2936ac007b572dcaa": {
      "model_module": "@jupyter-widgets/base",
      "model_module_version": "2.0.0",
      "model_name": "LayoutModel",
      "state": {}
     },
     "88d8fc3dfd1e468a86a6a8e0a3b2d617": {
      "model_module": "@jupyter-widgets/base",
      "model_module_version": "2.0.0",
      "model_name": "LayoutModel",
      "state": {}
     },
     "c7e81848eef3413b8e1b4abca966dbc3": {
      "model_module": "@jupyter-widgets/controls",
      "model_module_version": "2.0.0",
      "model_name": "FloatProgressModel",
      "state": {
       "bar_style": "success",
       "layout": "IPY_MODEL_12764faecda945eeb6f9a52c10988638",
       "max": 2,
       "style": "IPY_MODEL_f9205cd9c9484597bcf07ddcdd5cef01",
       "value": 2
      }
     },
     "e56247f0953745818d283d19a55d6f3a": {
      "model_module": "@jupyter-widgets/controls",
      "model_module_version": "2.0.0",
      "model_name": "HBoxModel",
      "state": {
       "children": [
        "IPY_MODEL_5a309c80026a41b386350eb02df3e7da",
        "IPY_MODEL_c7e81848eef3413b8e1b4abca966dbc3",
        "IPY_MODEL_5b167398dbba42e0a4d25f92e14e1dc3"
       ],
       "layout": "IPY_MODEL_88d8fc3dfd1e468a86a6a8e0a3b2d617"
      }
     },
     "f9205cd9c9484597bcf07ddcdd5cef01": {
      "model_module": "@jupyter-widgets/controls",
      "model_module_version": "2.0.0",
      "model_name": "ProgressStyleModel",
      "state": {
       "description_width": ""
      }
     },
     "fb29151d542048aa98bf0c193d2d78ca": {
      "model_module": "@jupyter-widgets/base",
      "model_module_version": "2.0.0",
      "model_name": "LayoutModel",
      "state": {}
     }
    },
    "version_major": 2,
    "version_minor": 0
   }
  }
 },
 "nbformat": 4,
 "nbformat_minor": 5
}
