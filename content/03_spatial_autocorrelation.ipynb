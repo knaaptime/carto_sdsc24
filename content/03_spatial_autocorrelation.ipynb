{
 "cells": [
  {
   "cell_type": "markdown",
   "metadata": {},
   "source": [
    "# Exploratory Analysis of Spatial Data: Spatial Autocorrelation #\n",
    "\n",
    "\n",
    "In this notebook we introduce methods of _exploratory spatial data analysis_\n",
    "that are intended to complement geovizualization through formal univariate and\n",
    "multivariate statistical tests for spatial clustering.\n",
    "\n",
    "\n",
    "## Imports"
   ]
  },
  {
   "cell_type": "code",
   "execution_count": null,
   "metadata": {
    "execution": {
     "iopub.execute_input": "2024-03-06T05:19:12.596806Z",
     "iopub.status.busy": "2024-03-06T05:19:12.596640Z",
     "iopub.status.idle": "2024-03-06T05:19:12.621977Z",
     "shell.execute_reply": "2024-03-06T05:19:12.621398Z",
     "shell.execute_reply.started": "2024-03-06T05:19:12.596788Z"
    },
    "tags": []
   },
   "outputs": [],
   "source": [
    "%load_ext autoreload\n",
    "%autoreload 2"
   ]
  },
  {
   "cell_type": "code",
   "execution_count": null,
   "metadata": {
    "execution": {
     "iopub.execute_input": "2024-03-06T05:19:12.624300Z",
     "iopub.status.busy": "2024-03-06T05:19:12.624109Z",
     "iopub.status.idle": "2024-03-06T05:19:43.437114Z",
     "shell.execute_reply": "2024-03-06T05:19:43.436596Z",
     "shell.execute_reply.started": "2024-03-06T05:19:12.624281Z"
    },
    "tags": []
   },
   "outputs": [],
   "source": [
    "import pandas as pd\n",
    "import geopandas as gpd\n",
    "import numpy as np\n",
    "import matplotlib.pyplot as plt\n",
    "import esda\n",
    "import libpysal as lps\n",
    "import contextily as cx"
   ]
  },
  {
   "cell_type": "code",
   "execution_count": null,
   "metadata": {
    "execution": {
     "iopub.execute_input": "2024-03-06T05:19:43.438136Z",
     "iopub.status.busy": "2024-03-06T05:19:43.437819Z",
     "iopub.status.idle": "2024-03-06T05:19:43.856884Z",
     "shell.execute_reply": "2024-03-06T05:19:43.856534Z",
     "shell.execute_reply.started": "2024-03-06T05:19:43.438115Z"
    },
    "tags": []
   },
   "outputs": [],
   "source": [
    "import seaborn as sns\n",
    "sns.set_context('notebook')\n",
    "%matplotlib inline"
   ]
  },
  {
   "cell_type": "markdown",
   "metadata": {},
   "source": [
    "## Data"
   ]
  },
  {
   "cell_type": "markdown",
   "metadata": {},
   "source": [
    "For this exercise, we'll use two datasets:\n",
    "\n",
    "1. a set of polygons (census tracts) for the city of San Diego from the US Census American Community Survey 5-year estimates.\n",
    "\n"
   ]
  },
  {
   "cell_type": "markdown",
   "metadata": {},
   "source": [
    "### Census Polygons"
   ]
  },
  {
   "cell_type": "code",
   "execution_count": null,
   "metadata": {
    "execution": {
     "iopub.execute_input": "2024-03-06T05:19:43.857529Z",
     "iopub.status.busy": "2024-03-06T05:19:43.857359Z",
     "iopub.status.idle": "2024-03-06T05:19:45.434077Z",
     "shell.execute_reply": "2024-03-06T05:19:45.433621Z",
     "shell.execute_reply.started": "2024-03-06T05:19:43.857519Z"
    },
    "tags": []
   },
   "outputs": [],
   "source": [
    "socal = gpd.read_parquet(\"data/scag_region.parquet\")"
   ]
  },
  {
   "cell_type": "code",
   "execution_count": null,
   "metadata": {
    "execution": {
     "iopub.execute_input": "2024-03-06T05:19:45.434907Z",
     "iopub.status.busy": "2024-03-06T05:19:45.434761Z",
     "iopub.status.idle": "2024-03-06T05:19:45.466870Z",
     "shell.execute_reply": "2024-03-06T05:19:45.466504Z",
     "shell.execute_reply.started": "2024-03-06T05:19:45.434890Z"
    },
    "tags": []
   },
   "outputs": [],
   "source": [
    "san_diego = socal[socal.geoid.str[:5]=='06073']"
   ]
  },
  {
   "cell_type": "code",
   "execution_count": null,
   "metadata": {
    "execution": {
     "iopub.execute_input": "2024-03-06T05:19:45.467551Z",
     "iopub.status.busy": "2024-03-06T05:19:45.467442Z",
     "iopub.status.idle": "2024-03-06T05:19:45.494911Z",
     "shell.execute_reply": "2024-03-06T05:19:45.494533Z",
     "shell.execute_reply.started": "2024-03-06T05:19:45.467541Z"
    },
    "tags": []
   },
   "outputs": [],
   "source": [
    "san_diego.info()"
   ]
  },
  {
   "cell_type": "code",
   "execution_count": null,
   "metadata": {
    "execution": {
     "iopub.execute_input": "2024-03-06T05:19:45.497059Z",
     "iopub.status.busy": "2024-03-06T05:19:45.496907Z",
     "iopub.status.idle": "2024-03-06T05:19:45.521282Z",
     "shell.execute_reply": "2024-03-06T05:19:45.520964Z",
     "shell.execute_reply.started": "2024-03-06T05:19:45.497050Z"
    },
    "tags": []
   },
   "outputs": [],
   "source": [
    "san_diego = san_diego.dropna(subset=['median_home_value'])"
   ]
  },
  {
   "cell_type": "code",
   "execution_count": null,
   "metadata": {
    "execution": {
     "iopub.execute_input": "2024-03-06T05:19:45.521722Z",
     "iopub.status.busy": "2024-03-06T05:19:45.521630Z",
     "iopub.status.idle": "2024-03-06T05:19:45.560726Z",
     "shell.execute_reply": "2024-03-06T05:19:45.560469Z",
     "shell.execute_reply.started": "2024-03-06T05:19:45.521713Z"
    },
    "tags": []
   },
   "outputs": [],
   "source": [
    "san_diego = san_diego.to_crs(epsg=3857)"
   ]
  },
  {
   "cell_type": "code",
   "execution_count": null,
   "metadata": {
    "execution": {
     "iopub.execute_input": "2024-03-06T05:19:45.561508Z",
     "iopub.status.busy": "2024-03-06T05:19:45.561410Z",
     "iopub.status.idle": "2024-03-06T05:19:47.564496Z",
     "shell.execute_reply": "2024-03-06T05:19:47.564191Z",
     "shell.execute_reply.started": "2024-03-06T05:19:45.561500Z"
    },
    "tags": []
   },
   "outputs": [],
   "source": [
    "f, ax = plt.subplots(figsize=(10,10))\n",
    "\n",
    "san_diego.plot('median_home_value', ax=ax, alpha=0.6)\n",
    "cx.add_basemap(ax, crs=san_diego.crs.to_string(), source=cx.providers.CartoDB.Positron)\n",
    "ax.axis('off')"
   ]
  },
  {
   "cell_type": "code",
   "execution_count": null,
   "metadata": {
    "execution": {
     "iopub.execute_input": "2024-03-06T05:19:47.565230Z",
     "iopub.status.busy": "2024-03-06T05:19:47.565128Z",
     "iopub.status.idle": "2024-03-06T05:19:47.668725Z",
     "shell.execute_reply": "2024-03-06T05:19:47.668397Z",
     "shell.execute_reply.started": "2024-03-06T05:19:47.565221Z"
    }
   },
   "outputs": [],
   "source": [
    "san_diego.median_home_value.hist()"
   ]
  },
  {
   "cell_type": "code",
   "execution_count": null,
   "metadata": {
    "execution": {
     "iopub.execute_input": "2024-03-06T05:19:47.669602Z",
     "iopub.status.busy": "2024-03-06T05:19:47.669471Z",
     "iopub.status.idle": "2024-03-06T05:19:49.250548Z",
     "shell.execute_reply": "2024-03-06T05:19:49.250210Z",
     "shell.execute_reply.started": "2024-03-06T05:19:47.669591Z"
    },
    "tags": []
   },
   "outputs": [],
   "source": [
    "fig, ax = plt.subplots(figsize=(12,12))\n",
    "\n",
    "san_diego.dropna(subset=['median_home_value']).to_crs(epsg=3857).plot('median_home_value', legend=True, scheme='quantiles', cmap='GnBu', k=5, ax=ax, alpha=0.7)\n",
    "\n",
    "cx.add_basemap(ax, crs=san_diego.crs.to_string(), source=cx.providers.CartoDB.Positron)\n",
    "ax.axis('off')\n",
    "\n",
    "plt.title(\"Median Home Value (Quintiles)\", fontsize=16)\n",
    "\n",
    "plt.axis('off')\n",
    "plt.tight_layout()"
   ]
  },
  {
   "cell_type": "markdown",
   "metadata": {},
   "source": [
    "## Spatial Autocorrelation ##\n",
    "\n",
    "Visual inspection of the map pattern for the prices allows us to search for\n",
    "spatial structure. If the spatial distribution of the prices was random, then we\n",
    "should not see any clustering of similar values on the map. However, our visual\n",
    "system is drawn to the darker clusters along the coast,\n",
    "and a concentration of the lighter hues (lower prices) in the north central and\n",
    "south east. In the point data, the trees are too dense to make any sense of the pattern\n",
    "\n",
    "Our brains are very powerful pattern recognition machines. However, sometimes\n",
    "they can be too powerful and lead us to detect false positives, or patterns\n",
    "where there are no statistical patterns. This is a particular concern when\n",
    "dealing with visualization of irregular polygons of differning sizes and shapes.\n",
    "\n",
    "The concept of *spatial\n",
    "autocorrelation* relates to the combination of two types of similarity: spatial\n",
    "similarity and attribute similarity. Although there are many different measures\n",
    "of spatial autocorrelation, they all combine these two types of simmilarity into\n",
    "a summary measure.\n",
    "\n",
    "Let's use PySAL to generate these two types of similarity\n",
    "measures.\n",
    "\n",
    "### Spatial Similarity ###\n",
    "\n",
    "We have already encountered spatial weights\n",
    "in a previous notebook. In spatial autocorrelation analysis, the spatial weights\n",
    "are used to formalize the notion of spatial similarity. As we have seen there\n",
    "are many ways to define spatial weights, here we will use queen contiguity:"
   ]
  },
  {
   "cell_type": "code",
   "execution_count": null,
   "metadata": {
    "execution": {
     "iopub.execute_input": "2024-03-06T05:19:49.251141Z",
     "iopub.status.busy": "2024-03-06T05:19:49.251044Z",
     "iopub.status.idle": "2024-03-06T05:19:49.311045Z",
     "shell.execute_reply": "2024-03-06T05:19:49.310776Z",
     "shell.execute_reply.started": "2024-03-06T05:19:49.251132Z"
    },
    "tags": []
   },
   "outputs": [],
   "source": [
    "wq =  lps.weights.Queen.from_dataframe(san_diego)\n",
    "wq.transform = 'r'"
   ]
  },
  {
   "cell_type": "markdown",
   "metadata": {},
   "source": [
    "### Attribute Similarity ###\n",
    "\n",
    "So the spatial weight between neighborhoods $i$ and $j$ indicates if the two \n",
    "are neighbors (i.e., geographically similar). What we also need is a measure of\n",
    "attribute similarity to pair up with this concept of spatial similarity. The\n",
    "**spatial lag** is a derived variable that accomplishes this for us. For neighborhood\n",
    "$i$ the spatial lag is defined as: $$ylag_i = \\sum_j w_{i,j} y_j$$"
   ]
  },
  {
   "cell_type": "code",
   "execution_count": null,
   "metadata": {
    "execution": {
     "iopub.execute_input": "2024-03-06T05:19:49.311577Z",
     "iopub.status.busy": "2024-03-06T05:19:49.311490Z",
     "iopub.status.idle": "2024-03-06T05:19:49.333243Z",
     "shell.execute_reply": "2024-03-06T05:19:49.332922Z",
     "shell.execute_reply.started": "2024-03-06T05:19:49.311568Z"
    },
    "tags": []
   },
   "outputs": [],
   "source": [
    "y = san_diego['median_home_value']\n",
    "ylag = lps.weights.lag_spatial(wq, y)"
   ]
  },
  {
   "cell_type": "code",
   "execution_count": null,
   "metadata": {
    "execution": {
     "iopub.execute_input": "2024-03-06T05:19:49.333965Z",
     "iopub.status.busy": "2024-03-06T05:19:49.333884Z",
     "iopub.status.idle": "2024-03-06T05:19:49.802055Z",
     "shell.execute_reply": "2024-03-06T05:19:49.801734Z",
     "shell.execute_reply.started": "2024-03-06T05:19:49.333957Z"
    },
    "tags": []
   },
   "outputs": [],
   "source": [
    "f, ax = plt.subplots(1, figsize=(12, 12))\n",
    "\n",
    "san_diego.assign(cl=ylag).plot(column='cl', scheme='quantiles', \\\n",
    "        k=5, cmap='GnBu', linewidth=0.1, ax=ax, \\\n",
    "        edgecolor='white', legend=True)\n",
    "\n",
    "cx.add_basemap(ax, crs=san_diego.crs.to_string(), source=cx.providers.CartoDB.Positron)\n",
    "ax.axis('off')\n",
    "\n",
    "plt.title(\"Spatial Lag Median Home Val (Quintiles)\", fontsize=16)\n",
    "\n",
    "plt.show()"
   ]
  },
  {
   "cell_type": "markdown",
   "metadata": {},
   "source": [
    "The quintile map for the spatial lag tends to enhance the impression of value\n",
    "similarity in space. It is, in effect, a local smoother."
   ]
  },
  {
   "cell_type": "code",
   "execution_count": null,
   "metadata": {
    "execution": {
     "iopub.execute_input": "2024-03-06T05:19:49.802514Z",
     "iopub.status.busy": "2024-03-06T05:19:49.802434Z",
     "iopub.status.idle": "2024-03-06T05:19:50.354083Z",
     "shell.execute_reply": "2024-03-06T05:19:50.353675Z",
     "shell.execute_reply.started": "2024-03-06T05:19:49.802505Z"
    },
    "tags": []
   },
   "outputs": [],
   "source": [
    "san_diego['lag_median_pri'] = ylag\n",
    "\n",
    "f,ax = plt.subplots(1,2,figsize=(12,4))\n",
    "\n",
    "san_diego.plot(column='median_home_value', ax=ax[0],\n",
    "        scheme=\"quantiles\",  k=5, cmap='GnBu')\n",
    "\n",
    "#ax[0].axis(san_diego.total_bounds[np.asarray([0,2,1,3])])\n",
    "ax[0].set_title(\"Price\", fontsize=16)\n",
    "\n",
    "san_diego.plot(column='lag_median_pri', ax=ax[1],\n",
    "        scheme='quantiles', cmap='GnBu', k=5)\n",
    "\n",
    "cx.add_basemap(ax[0], crs=san_diego.crs.to_string(), source=cx.providers.CartoDB.Positron)\n",
    "\n",
    "cx.add_basemap(ax[1], crs=san_diego.crs.to_string(), source=cx.providers.CartoDB.Positron)\n",
    "\n",
    "ax[1].set_title(\"Spatial Lag Price\", fontsize=16)\n",
    "ax[0].axis('off')\n",
    "ax[1].axis('off')\n",
    "\n",
    "plt.show()"
   ]
  },
  {
   "cell_type": "markdown",
   "metadata": {},
   "source": [
    "However, we still have\n",
    "the challenge of visually associating the value of the prices in a neighborhod\n",
    "with the value of the spatial lag of values for the focal unit. The latter is a\n",
    "weighted average of home prices in the focal county's neighborhood.\n",
    "\n",
    "To complement the geovisualization of these associations we can turn to formal\n",
    "statistical measures of spatial autocorrelation.\n",
    "\n",
    "\n",
    "## Global Spatial Autocorrelation\n",
    "\n"
   ]
  },
  {
   "cell_type": "markdown",
   "metadata": {},
   "source": [
    "## Join counts ##\n",
    "\n",
    "One way to formalize a test for spatial autocorrelation in a binary attribute is\n",
    "to consider the so-called _joins_. A join exists for each neighbor pair of\n",
    "observations, and the joins are reflected in our binary spatial weights object\n",
    "`wq`. \n",
    "\n",
    "Each unit can take on one of two values \"Black\" or \"White\", analogous to the layout of a chessboard"
   ]
  },
  {
   "cell_type": "code",
   "execution_count": null,
   "metadata": {
    "execution": {
     "iopub.execute_input": "2024-03-06T05:19:50.354662Z",
     "iopub.status.busy": "2024-03-06T05:19:50.354582Z",
     "iopub.status.idle": "2024-03-06T05:19:50.437021Z",
     "shell.execute_reply": "2024-03-06T05:19:50.436623Z",
     "shell.execute_reply.started": "2024-03-06T05:19:50.354654Z"
    },
    "tags": []
   },
   "outputs": [],
   "source": [
    "nrows, ncols = 9,9\n",
    "image = np.zeros(nrows*ncols)\n",
    "\n",
    "# Set every other cell to 1\n",
    "image[::2] = 1\n",
    "\n",
    "# Reshape things into a 9x9 grid.\n",
    "image = image.reshape((nrows, ncols))\n",
    "plt.matshow(image, cmap='Greys')\n",
    "plt.axis('off')\n",
    "plt.show()"
   ]
  },
  {
   "cell_type": "markdown",
   "metadata": {},
   "source": [
    "and so for a given\n",
    "pair of neighboring locations there are three different types of joins that can\n",
    "arise:\n",
    "\n",
    "- Black Black (BB)\n",
    "- White White (WW)\n",
    "- Black White (or White Black) (BW)\n",
    "\n",
    "\n",
    "We can use the `esda` package from PySAL to carry out join count analysis. In the case of our point data, the join counts can help us determine whether different varieties of trees tend to grow together, spread randomly through space, or compete with one another for precious resources"
   ]
  },
  {
   "cell_type": "markdown",
   "metadata": {},
   "source": [
    "### Polygon Data"
   ]
  },
  {
   "cell_type": "markdown",
   "metadata": {},
   "source": [
    "With polygon data, we can conduct an analysis using a contiguity matrix. For our housing price data, we need to first discretize the variable we're using; to keep things simple, we'll binarize our price data using the median so that \"high\" values are tracts whose median home price is above the city's median and \"low\" values are those below"
   ]
  },
  {
   "cell_type": "code",
   "execution_count": null,
   "metadata": {
    "execution": {
     "iopub.execute_input": "2024-03-06T05:19:50.437609Z",
     "iopub.status.busy": "2024-03-06T05:19:50.437532Z",
     "iopub.status.idle": "2024-03-06T05:19:50.458806Z",
     "shell.execute_reply": "2024-03-06T05:19:50.458458Z",
     "shell.execute_reply.started": "2024-03-06T05:19:50.437601Z"
    },
    "tags": []
   },
   "outputs": [],
   "source": [
    "y.median()"
   ]
  },
  {
   "cell_type": "code",
   "execution_count": null,
   "metadata": {
    "execution": {
     "iopub.execute_input": "2024-03-06T05:19:50.459539Z",
     "iopub.status.busy": "2024-03-06T05:19:50.459460Z",
     "iopub.status.idle": "2024-03-06T05:19:50.481642Z",
     "shell.execute_reply": "2024-03-06T05:19:50.481294Z",
     "shell.execute_reply.started": "2024-03-06T05:19:50.459531Z"
    },
    "tags": []
   },
   "outputs": [],
   "source": [
    "san_diego.shape"
   ]
  },
  {
   "cell_type": "code",
   "execution_count": null,
   "metadata": {
    "execution": {
     "iopub.execute_input": "2024-03-06T05:19:50.482224Z",
     "iopub.status.busy": "2024-03-06T05:19:50.482119Z",
     "iopub.status.idle": "2024-03-06T05:19:50.504088Z",
     "shell.execute_reply": "2024-03-06T05:19:50.503817Z",
     "shell.execute_reply.started": "2024-03-06T05:19:50.482214Z"
    },
    "tags": []
   },
   "outputs": [],
   "source": [
    "yb = y > y.median()\n",
    "sum(yb)"
   ]
  },
  {
   "cell_type": "code",
   "execution_count": null,
   "metadata": {
    "execution": {
     "iopub.execute_input": "2024-03-06T05:19:50.504871Z",
     "iopub.status.busy": "2024-03-06T05:19:50.504598Z",
     "iopub.status.idle": "2024-03-06T05:19:50.527448Z",
     "shell.execute_reply": "2024-03-06T05:19:50.527102Z",
     "shell.execute_reply.started": "2024-03-06T05:19:50.504859Z"
    },
    "tags": []
   },
   "outputs": [],
   "source": [
    "yb = y > y.median()\n",
    "labels = [\"0 Low\", \"1 High\"]\n",
    "yb = [labels[i] for i in 1*yb] \n",
    "san_diego['yb'] = yb"
   ]
  },
  {
   "cell_type": "code",
   "execution_count": null,
   "metadata": {
    "execution": {
     "iopub.execute_input": "2024-03-06T05:19:50.528005Z",
     "iopub.status.busy": "2024-03-06T05:19:50.527920Z",
     "iopub.status.idle": "2024-03-06T05:19:50.782722Z",
     "shell.execute_reply": "2024-03-06T05:19:50.782390Z",
     "shell.execute_reply.started": "2024-03-06T05:19:50.527996Z"
    },
    "tags": []
   },
   "outputs": [],
   "source": [
    "fig, ax = plt.subplots(figsize=(12,12))\n",
    "san_diego.plot(column='yb', cmap='binary', edgecolor='grey', legend=True, ax=ax)"
   ]
  },
  {
   "cell_type": "markdown",
   "metadata": {},
   "source": [
    "The spatial distribution of the binary variable immediately raises questions\n",
    "about the juxtaposition of the \"black\" and \"white\" areas."
   ]
  },
  {
   "cell_type": "markdown",
   "metadata": {},
   "source": [
    "Given that we have 308 Black polygons on our map, what is the number of Black\n",
    "Black (BB) joins we could expect if the process were such that the Black\n",
    "polygons were randomly assigned on the map?"
   ]
  },
  {
   "cell_type": "code",
   "execution_count": null,
   "metadata": {
    "execution": {
     "iopub.execute_input": "2024-03-06T05:19:50.786130Z",
     "iopub.status.busy": "2024-03-06T05:19:50.786024Z",
     "iopub.status.idle": "2024-03-06T05:19:51.256927Z",
     "shell.execute_reply": "2024-03-06T05:19:51.256568Z",
     "shell.execute_reply.started": "2024-03-06T05:19:50.786121Z"
    },
    "tags": []
   },
   "outputs": [],
   "source": [
    "yb = 1 * (y > y.median()) # convert back to binary\n",
    "wq =  lps.weights.Queen.from_dataframe(san_diego)\n",
    "wq.transform = 'b'\n",
    "np.random.seed(12345)\n",
    "jc = esda.join_counts.Join_Counts(yb, wq)"
   ]
  },
  {
   "cell_type": "markdown",
   "metadata": {},
   "source": [
    "The resulting object stores the observed counts for the different types of joins:"
   ]
  },
  {
   "cell_type": "code",
   "execution_count": null,
   "metadata": {
    "execution": {
     "iopub.execute_input": "2024-03-06T05:19:51.257488Z",
     "iopub.status.busy": "2024-03-06T05:19:51.257398Z",
     "iopub.status.idle": "2024-03-06T05:19:51.280906Z",
     "shell.execute_reply": "2024-03-06T05:19:51.280570Z",
     "shell.execute_reply.started": "2024-03-06T05:19:51.257479Z"
    },
    "tags": []
   },
   "outputs": [],
   "source": [
    "jc.bb"
   ]
  },
  {
   "cell_type": "code",
   "execution_count": null,
   "metadata": {
    "execution": {
     "iopub.execute_input": "2024-03-06T05:19:51.281642Z",
     "iopub.status.busy": "2024-03-06T05:19:51.281497Z",
     "iopub.status.idle": "2024-03-06T05:19:51.303249Z",
     "shell.execute_reply": "2024-03-06T05:19:51.302806Z",
     "shell.execute_reply.started": "2024-03-06T05:19:51.281632Z"
    },
    "tags": []
   },
   "outputs": [],
   "source": [
    "jc.ww"
   ]
  },
  {
   "cell_type": "code",
   "execution_count": null,
   "metadata": {
    "execution": {
     "iopub.execute_input": "2024-03-06T05:19:51.303999Z",
     "iopub.status.busy": "2024-03-06T05:19:51.303801Z",
     "iopub.status.idle": "2024-03-06T05:19:51.324719Z",
     "shell.execute_reply": "2024-03-06T05:19:51.324329Z",
     "shell.execute_reply.started": "2024-03-06T05:19:51.303988Z"
    },
    "tags": []
   },
   "outputs": [],
   "source": [
    "jc.bw"
   ]
  },
  {
   "cell_type": "markdown",
   "metadata": {},
   "source": [
    "Note that the three cases exhaust all possibilities:"
   ]
  },
  {
   "cell_type": "code",
   "execution_count": null,
   "metadata": {
    "execution": {
     "iopub.execute_input": "2024-03-06T05:19:51.325424Z",
     "iopub.status.busy": "2024-03-06T05:19:51.325327Z",
     "iopub.status.idle": "2024-03-06T05:19:51.347686Z",
     "shell.execute_reply": "2024-03-06T05:19:51.347361Z",
     "shell.execute_reply.started": "2024-03-06T05:19:51.325415Z"
    },
    "tags": []
   },
   "outputs": [],
   "source": [
    "jc.bb + jc.ww + jc.bw"
   ]
  },
  {
   "cell_type": "markdown",
   "metadata": {},
   "source": [
    "and"
   ]
  },
  {
   "cell_type": "code",
   "execution_count": null,
   "metadata": {
    "execution": {
     "iopub.execute_input": "2024-03-06T05:19:51.348251Z",
     "iopub.status.busy": "2024-03-06T05:19:51.348156Z",
     "iopub.status.idle": "2024-03-06T05:19:51.369683Z",
     "shell.execute_reply": "2024-03-06T05:19:51.369285Z",
     "shell.execute_reply.started": "2024-03-06T05:19:51.348241Z"
    },
    "tags": []
   },
   "outputs": [],
   "source": [
    "wq.s0 / 2"
   ]
  },
  {
   "cell_type": "markdown",
   "metadata": {},
   "source": [
    "which is the unique number of joins in the spatial weights object.\n",
    "\n",
    "Our object tells us we have observed 736 BB joins:"
   ]
  },
  {
   "cell_type": "code",
   "execution_count": null,
   "metadata": {
    "execution": {
     "iopub.execute_input": "2024-03-06T05:19:51.370376Z",
     "iopub.status.busy": "2024-03-06T05:19:51.370286Z",
     "iopub.status.idle": "2024-03-06T05:19:51.391211Z",
     "shell.execute_reply": "2024-03-06T05:19:51.390840Z",
     "shell.execute_reply.started": "2024-03-06T05:19:51.370367Z"
    },
    "tags": []
   },
   "outputs": [],
   "source": [
    "jc.bb"
   ]
  },
  {
   "cell_type": "markdown",
   "metadata": {},
   "source": [
    "The critical question for us, is whether this is a departure from what we would\n",
    "expect if the process generating the spatial distribution of the Black polygons\n",
    "were a completely random one? To answer this, PySAL uses random spatial\n",
    "permutations of the observed attribute values to generate a realization under\n",
    "the null of _complete spatial randomness_ (CSR). This is repeated a large number\n",
    "of times (999 default) to construct a reference distribution to evaluate the\n",
    "statistical significance of our observed counts.\n",
    "\n",
    "The average number of BB joins from the synthetic realizations is:"
   ]
  },
  {
   "cell_type": "code",
   "execution_count": null,
   "metadata": {
    "execution": {
     "iopub.execute_input": "2024-03-06T05:19:51.391830Z",
     "iopub.status.busy": "2024-03-06T05:19:51.391727Z",
     "iopub.status.idle": "2024-03-06T05:19:51.413037Z",
     "shell.execute_reply": "2024-03-06T05:19:51.412589Z",
     "shell.execute_reply.started": "2024-03-06T05:19:51.391821Z"
    },
    "tags": []
   },
   "outputs": [],
   "source": [
    "jc.mean_bb"
   ]
  },
  {
   "cell_type": "markdown",
   "metadata": {},
   "source": [
    "which is less than our observed count. The question is whether our observed\n",
    "value is so different from the expectation that we would reject the null of CSR?"
   ]
  },
  {
   "cell_type": "code",
   "execution_count": null,
   "metadata": {
    "execution": {
     "iopub.execute_input": "2024-03-06T05:19:51.413579Z",
     "iopub.status.busy": "2024-03-06T05:19:51.413494Z",
     "iopub.status.idle": "2024-03-06T05:19:51.518858Z",
     "shell.execute_reply": "2024-03-06T05:19:51.518568Z",
     "shell.execute_reply.started": "2024-03-06T05:19:51.413571Z"
    },
    "tags": []
   },
   "outputs": [],
   "source": [
    "import seaborn as sbn\n",
    "sbn.kdeplot(jc.sim_bb, shade=True)\n",
    "plt.vlines(jc.bb, 0, 0.075, color='r')\n",
    "plt.vlines(jc.mean_bb, 0,0.075)\n",
    "plt.xlabel('BB Counts')"
   ]
  },
  {
   "cell_type": "markdown",
   "metadata": {},
   "source": [
    "The density portrays the distribution of the BB counts, with the black vertical\n",
    "line indicating the mean BB count from the synthetic realizations and the red\n",
    "line the observed BB count for our prices. Clearly our observed value is\n",
    "extremely high. A pseudo p-value summarizes this:"
   ]
  },
  {
   "cell_type": "code",
   "execution_count": null,
   "metadata": {
    "execution": {
     "iopub.execute_input": "2024-03-06T05:19:51.519604Z",
     "iopub.status.busy": "2024-03-06T05:19:51.519469Z",
     "iopub.status.idle": "2024-03-06T05:19:51.541579Z",
     "shell.execute_reply": "2024-03-06T05:19:51.541277Z",
     "shell.execute_reply.started": "2024-03-06T05:19:51.519595Z"
    },
    "tags": []
   },
   "outputs": [],
   "source": [
    "jc.p_sim_bb"
   ]
  },
  {
   "cell_type": "markdown",
   "metadata": {},
   "source": [
    "Since this is below conventional significance levels, we would reject the null\n",
    "of complete spatial randomness in favor of spatial autocorrelation in market prices.\n",
    "\n",
    "\n",
    "### Continuous Case\n",
    "\n",
    "The join count analysis is based on a binary attribute, which can cover many\n",
    "interesting empirical applications where one is interested in presence and\n",
    "absence type phenomena. In our case, we artificially created the binary variable,\n",
    "and in the process we throw away a lot of information in our originally\n",
    "continuous attribute. Turning back to the original variable, we can explore\n",
    "other tests for spatial autocorrelation for the continuous case.\n",
    "\n",
    "First, we transform our weights to be row-standardized, from the current binary state:"
   ]
  },
  {
   "cell_type": "code",
   "execution_count": null,
   "metadata": {
    "execution": {
     "iopub.execute_input": "2024-03-06T05:19:51.542071Z",
     "iopub.status.busy": "2024-03-06T05:19:51.541985Z",
     "iopub.status.idle": "2024-03-06T05:19:51.564782Z",
     "shell.execute_reply": "2024-03-06T05:19:51.564443Z",
     "shell.execute_reply.started": "2024-03-06T05:19:51.542062Z"
    },
    "tags": []
   },
   "outputs": [],
   "source": [
    "wq.transform = 'r'"
   ]
  },
  {
   "cell_type": "code",
   "execution_count": null,
   "metadata": {
    "execution": {
     "iopub.execute_input": "2024-03-06T05:19:51.565464Z",
     "iopub.status.busy": "2024-03-06T05:19:51.565361Z",
     "iopub.status.idle": "2024-03-06T05:19:51.586448Z",
     "shell.execute_reply": "2024-03-06T05:19:51.586033Z",
     "shell.execute_reply.started": "2024-03-06T05:19:51.565455Z"
    },
    "tags": []
   },
   "outputs": [],
   "source": [
    "y = san_diego['median_home_value']"
   ]
  },
  {
   "cell_type": "markdown",
   "metadata": {},
   "source": [
    "Moran's I is a test for global autocorrelation for a continuous attribute:"
   ]
  },
  {
   "cell_type": "code",
   "execution_count": null,
   "metadata": {
    "execution": {
     "iopub.execute_input": "2024-03-06T05:19:51.587383Z",
     "iopub.status.busy": "2024-03-06T05:19:51.587112Z",
     "iopub.status.idle": "2024-03-06T05:19:51.624219Z",
     "shell.execute_reply": "2024-03-06T05:19:51.623823Z",
     "shell.execute_reply.started": "2024-03-06T05:19:51.587370Z"
    },
    "tags": []
   },
   "outputs": [],
   "source": [
    "np.random.seed(12345)\n",
    "mi = esda.moran.Moran(y, wq)\n",
    "mi.I"
   ]
  },
  {
   "cell_type": "markdown",
   "metadata": {},
   "source": [
    "Again, our value for the statistic needs to be interpreted against a reference\n",
    "distribution under the null of CSR. PySAL uses a similar approach as we saw in\n",
    "the join count analysis: random spatial permutations."
   ]
  },
  {
   "cell_type": "code",
   "execution_count": null,
   "metadata": {
    "execution": {
     "iopub.execute_input": "2024-03-06T05:19:51.624750Z",
     "iopub.status.busy": "2024-03-06T05:19:51.624658Z",
     "iopub.status.idle": "2024-03-06T05:19:51.811670Z",
     "shell.execute_reply": "2024-03-06T05:19:51.811228Z",
     "shell.execute_reply.started": "2024-03-06T05:19:51.624741Z"
    },
    "tags": []
   },
   "outputs": [],
   "source": [
    "from splot.esda import plot_moran\n",
    "plot_moran(mi, zstandard=True, figsize=(10,4))\n",
    "plt.show()"
   ]
  },
  {
   "cell_type": "markdown",
   "metadata": {},
   "source": [
    "On the left, we have the reference distribution versus the observed statistic; on the right, we have a plot of the focal value against its spatial lag, for which the Moran I statistic serves as the slope"
   ]
  },
  {
   "cell_type": "markdown",
   "metadata": {},
   "source": [
    "Here our observed value is again in the upper tail"
   ]
  },
  {
   "cell_type": "code",
   "execution_count": null,
   "metadata": {
    "execution": {
     "iopub.execute_input": "2024-03-06T05:19:51.812419Z",
     "iopub.status.busy": "2024-03-06T05:19:51.812305Z",
     "iopub.status.idle": "2024-03-06T05:19:51.832742Z",
     "shell.execute_reply": "2024-03-06T05:19:51.832314Z",
     "shell.execute_reply.started": "2024-03-06T05:19:51.812409Z"
    },
    "tags": []
   },
   "outputs": [],
   "source": [
    "mi.p_sim"
   ]
  },
  {
   "cell_type": "markdown",
   "metadata": {},
   "source": [
    "## Local Autocorrelation: Hot Spots, Cold Spots, and Spatial Outliers ##\n",
    "\n",
    "In addition to the Global autocorrelation statistics, PySAL has many local\n",
    "autocorrelation statistics. Let's compute a local Moran statistic for the same data"
   ]
  },
  {
   "cell_type": "code",
   "execution_count": null,
   "metadata": {
    "execution": {
     "iopub.execute_input": "2024-03-06T05:19:51.833293Z",
     "iopub.status.busy": "2024-03-06T05:19:51.833195Z",
     "iopub.status.idle": "2024-03-06T05:19:51.856053Z",
     "shell.execute_reply": "2024-03-06T05:19:51.855681Z",
     "shell.execute_reply.started": "2024-03-06T05:19:51.833284Z"
    },
    "tags": []
   },
   "outputs": [],
   "source": [
    "np.random.seed(12345)"
   ]
  },
  {
   "cell_type": "code",
   "execution_count": null,
   "metadata": {
    "execution": {
     "iopub.execute_input": "2024-03-06T05:19:51.856691Z",
     "iopub.status.busy": "2024-03-06T05:19:51.856590Z",
     "iopub.status.idle": "2024-03-06T05:19:51.879808Z",
     "shell.execute_reply": "2024-03-06T05:19:51.879520Z",
     "shell.execute_reply.started": "2024-03-06T05:19:51.856682Z"
    },
    "tags": []
   },
   "outputs": [],
   "source": [
    "wq.transform = 'r'\n",
    "lag_price = lps.weights.lag_spatial(wq, san_diego['median_home_value'])"
   ]
  },
  {
   "cell_type": "code",
   "execution_count": null,
   "metadata": {
    "execution": {
     "iopub.execute_input": "2024-03-06T05:19:51.880423Z",
     "iopub.status.busy": "2024-03-06T05:19:51.880328Z",
     "iopub.status.idle": "2024-03-06T05:19:53.192789Z",
     "shell.execute_reply": "2024-03-06T05:19:53.192524Z",
     "shell.execute_reply.started": "2024-03-06T05:19:51.880414Z"
    },
    "tags": []
   },
   "outputs": [],
   "source": [
    "li = esda.moran.Moran_Local(y, wq, seed=1234, permutations=99)"
   ]
  },
  {
   "cell_type": "code",
   "execution_count": null,
   "metadata": {
    "execution": {
     "iopub.execute_input": "2024-03-06T05:19:53.193486Z",
     "iopub.status.busy": "2024-03-06T05:19:53.193387Z",
     "iopub.status.idle": "2024-03-06T05:19:53.215883Z",
     "shell.execute_reply": "2024-03-06T05:19:53.215529Z",
     "shell.execute_reply.started": "2024-03-06T05:19:53.193477Z"
    },
    "tags": []
   },
   "outputs": [],
   "source": [
    "import libpysal\n",
    "from esda import moran"
   ]
  },
  {
   "cell_type": "code",
   "execution_count": null,
   "metadata": {
    "execution": {
     "iopub.execute_input": "2024-03-06T05:19:53.216422Z",
     "iopub.status.busy": "2024-03-06T05:19:53.216329Z",
     "iopub.status.idle": "2024-03-06T05:19:54.193129Z",
     "shell.execute_reply": "2024-03-06T05:19:54.192842Z",
     "shell.execute_reply.started": "2024-03-06T05:19:53.216412Z"
    },
    "tags": []
   },
   "outputs": [],
   "source": [
    "sac1 = libpysal.examples.load_example(\"Sacramento1\")\n",
    "sac1 = gpd.read_file(sac1.get_path(\"sacramentot2.shp\"))\n",
    "\n",
    "w = libpysal.weights.Queen.from_dataframe(sac1)\n",
    "lm = moran.Moran_Local(\n",
    "            sac1.HSG_VAL.values,\n",
    "            w,\n",
    "            transformation=\"r\",\n",
    "            permutations=99,\n",
    "            keep_simulations=True,\n",
    "            seed=12345,\n",
    "        )"
   ]
  },
  {
   "cell_type": "code",
   "execution_count": null,
   "metadata": {
    "execution": {
     "iopub.execute_input": "2024-03-06T05:19:55.788806Z",
     "iopub.status.busy": "2024-03-06T05:19:55.788697Z",
     "iopub.status.idle": "2024-03-06T05:19:55.819407Z",
     "shell.execute_reply": "2024-03-06T05:19:55.819056Z",
     "shell.execute_reply.started": "2024-03-06T05:19:55.788795Z"
    },
    "tags": []
   },
   "outputs": [],
   "source": [
    "pd.Series(lm.get_cluster_labels(.05)).value_counts().values"
   ]
  },
  {
   "cell_type": "code",
   "execution_count": null,
   "metadata": {
    "execution": {
     "iopub.execute_input": "2024-03-06T05:19:55.820358Z",
     "iopub.status.busy": "2024-03-06T05:19:55.820207Z",
     "iopub.status.idle": "2024-03-06T05:19:56.327596Z",
     "shell.execute_reply": "2024-03-06T05:19:56.327322Z",
     "shell.execute_reply.started": "2024-03-06T05:19:55.820345Z"
    },
    "tags": []
   },
   "outputs": [],
   "source": [
    "li.explore(san_diego, crit_value=.05)"
   ]
  },
  {
   "cell_type": "markdown",
   "metadata": {},
   "source": [
    "Now, instead of a single $I$ statistic, we have an *array* of local $I_i$\n",
    "statistics, stored in the `.Is` attribute, and p-values from the simulation are\n",
    "in `p_sim`."
   ]
  },
  {
   "cell_type": "code",
   "execution_count": null,
   "metadata": {
    "execution": {
     "iopub.execute_input": "2024-03-06T05:19:56.328173Z",
     "iopub.status.busy": "2024-03-06T05:19:56.327974Z",
     "iopub.status.idle": "2024-03-06T05:19:56.462375Z",
     "shell.execute_reply": "2024-03-06T05:19:56.461717Z",
     "shell.execute_reply.started": "2024-03-06T05:19:56.328164Z"
    },
    "tags": []
   },
   "outputs": [],
   "source": [
    "from splot.esda import moran_scatterplot\n",
    "\n",
    "fig, ax = moran_scatterplot(li)\n",
    "ax.set_xlabel('Price')\n",
    "ax.set_ylabel('Spatial Lag of Price')\n",
    "plt.show()"
   ]
  },
  {
   "cell_type": "code",
   "execution_count": null,
   "metadata": {
    "execution": {
     "iopub.execute_input": "2024-03-06T05:19:56.463669Z",
     "iopub.status.busy": "2024-03-06T05:19:56.463522Z",
     "iopub.status.idle": "2024-03-06T05:19:56.494314Z",
     "shell.execute_reply": "2024-03-06T05:19:56.493905Z",
     "shell.execute_reply.started": "2024-03-06T05:19:56.463656Z"
    },
    "tags": []
   },
   "outputs": [],
   "source": [
    "li.q"
   ]
  },
  {
   "cell_type": "markdown",
   "metadata": {},
   "source": [
    "We can again test for local clustering using permutations, but here we use\n",
    "conditional random permutations (different distributions for each focal location)"
   ]
  },
  {
   "cell_type": "code",
   "execution_count": null,
   "metadata": {
    "execution": {
     "iopub.execute_input": "2024-03-06T05:19:56.495175Z",
     "iopub.status.busy": "2024-03-06T05:19:56.495031Z",
     "iopub.status.idle": "2024-03-06T05:19:56.520537Z",
     "shell.execute_reply": "2024-03-06T05:19:56.520114Z",
     "shell.execute_reply.started": "2024-03-06T05:19:56.495165Z"
    },
    "tags": []
   },
   "outputs": [],
   "source": [
    "(li.p_sim < 0.05).sum()"
   ]
  },
  {
   "cell_type": "code",
   "execution_count": null,
   "metadata": {
    "execution": {
     "iopub.execute_input": "2024-03-06T05:19:56.521398Z",
     "iopub.status.busy": "2024-03-06T05:19:56.521244Z",
     "iopub.status.idle": "2024-03-06T05:19:56.666695Z",
     "shell.execute_reply": "2024-03-06T05:19:56.666417Z",
     "shell.execute_reply.started": "2024-03-06T05:19:56.521379Z"
    },
    "tags": []
   },
   "outputs": [],
   "source": [
    "fig, ax = moran_scatterplot(li, p=0.05)\n",
    "ax.set_xlabel('Price')\n",
    "ax.set_ylabel('Spatial Lag of Price')\n",
    "plt.show()"
   ]
  },
  {
   "cell_type": "markdown",
   "metadata": {},
   "source": [
    "We can distinguish the specific type of local spatial association reflected in\n",
    "the four quadrants of the Moran Scatterplot above:\n",
    "- High-High (upper right)\n",
    "- Low-Low (bottom left)\n",
    "- High-Low (lower right)\n",
    "- Low-High (upper left)"
   ]
  },
  {
   "cell_type": "markdown",
   "metadata": {},
   "source": [
    "Using `splot`, we can also plot these hotspots on the original geodataframe"
   ]
  },
  {
   "cell_type": "code",
   "execution_count": null,
   "metadata": {
    "execution": {
     "iopub.execute_input": "2024-03-06T05:19:56.667308Z",
     "iopub.status.busy": "2024-03-06T05:19:56.667205Z",
     "iopub.status.idle": "2024-03-06T05:19:56.845611Z",
     "shell.execute_reply": "2024-03-06T05:19:56.845231Z",
     "shell.execute_reply.started": "2024-03-06T05:19:56.667297Z"
    },
    "tags": []
   },
   "outputs": [],
   "source": [
    "from splot.esda import lisa_cluster\n",
    "lisa_cluster(li, san_diego, p=0.05, figsize = (9,9))\n",
    "plt.show()"
   ]
  },
  {
   "cell_type": "code",
   "execution_count": null,
   "metadata": {
    "execution": {
     "iopub.execute_input": "2024-03-06T05:19:56.846294Z",
     "iopub.status.busy": "2024-03-06T05:19:56.846199Z",
     "iopub.status.idle": "2024-03-06T05:19:57.331101Z",
     "shell.execute_reply": "2024-03-06T05:19:57.330828Z",
     "shell.execute_reply.started": "2024-03-06T05:19:56.846285Z"
    },
    "tags": []
   },
   "outputs": [],
   "source": [
    "from splot.esda import plot_local_autocorrelation\n",
    "plot_local_autocorrelation(li, san_diego, 'median_home_value')"
   ]
  },
  {
   "cell_type": "code",
   "execution_count": null,
   "metadata": {},
   "outputs": [],
   "source": []
  },
  {
   "cell_type": "code",
   "execution_count": null,
   "metadata": {},
   "outputs": [],
   "source": []
  },
  {
   "cell_type": "code",
   "execution_count": null,
   "metadata": {},
   "outputs": [],
   "source": []
  }
 ],
 "metadata": {
  "kernelspec": {
   "display_name": "Python [conda env:carto_sdsc24]",
   "language": "python",
   "name": "conda-env-carto_sdsc24-py"
  },
  "language_info": {
   "codemirror_mode": {
    "name": "ipython",
    "version": 3
   },
   "file_extension": ".py",
   "mimetype": "text/x-python",
   "name": "python",
   "nbconvert_exporter": "python",
   "pygments_lexer": "ipython3",
   "version": "3.11.8"
  },
  "widgets": {
   "application/vnd.jupyter.widget-state+json": {
    "state": {},
    "version_major": 2,
    "version_minor": 0
   }
  }
 },
 "nbformat": 4,
 "nbformat_minor": 4
}
