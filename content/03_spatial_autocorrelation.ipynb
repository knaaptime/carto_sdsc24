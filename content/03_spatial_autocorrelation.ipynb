{
 "cells": [
  {
   "cell_type": "markdown",
   "metadata": {},
   "source": [
    "# Exploratory Analysis of Spatial Data: Spatial Autocorrelation #\n",
    "\n",
    "\n",
    "In this notebook we introduce methods of _exploratory spatial data analysis_\n",
    "that are intended to complement geovizualization through formal univariate and\n",
    "multivariate statistical tests for spatial clustering.\n",
    "\n",
    "\n",
    "## Imports"
   ]
  },
  {
   "cell_type": "code",
   "execution_count": null,
   "metadata": {
    "execution": {
     "iopub.execute_input": "2023-10-27T15:40:38.054622Z",
     "iopub.status.busy": "2023-10-27T15:40:38.054301Z",
     "iopub.status.idle": "2023-10-27T15:40:38.080342Z",
     "shell.execute_reply": "2023-10-27T15:40:38.079903Z",
     "shell.execute_reply.started": "2023-10-27T15:40:38.054605Z"
    },
    "tags": []
   },
   "outputs": [],
   "source": [
    "%load_ext autoreload\n",
    "%autoreload 2"
   ]
  },
  {
   "cell_type": "code",
   "execution_count": null,
   "metadata": {
    "execution": {
     "iopub.execute_input": "2023-10-27T15:40:38.083112Z",
     "iopub.status.busy": "2023-10-27T15:40:38.082979Z",
     "iopub.status.idle": "2023-10-27T15:40:40.240030Z",
     "shell.execute_reply": "2023-10-27T15:40:40.239595Z",
     "shell.execute_reply.started": "2023-10-27T15:40:38.083098Z"
    },
    "tags": []
   },
   "outputs": [],
   "source": [
    "import pandas as pd\n",
    "import geopandas as gpd\n",
    "import numpy as np\n",
    "import matplotlib.pyplot as plt\n",
    "import esda\n",
    "import libpysal as lps\n",
    "import contextily as cx"
   ]
  },
  {
   "cell_type": "code",
   "execution_count": null,
   "metadata": {
    "execution": {
     "iopub.execute_input": "2023-10-27T15:40:40.240835Z",
     "iopub.status.busy": "2023-10-27T15:40:40.240655Z",
     "iopub.status.idle": "2023-10-27T15:40:40.376239Z",
     "shell.execute_reply": "2023-10-27T15:40:40.375714Z",
     "shell.execute_reply.started": "2023-10-27T15:40:40.240825Z"
    },
    "tags": []
   },
   "outputs": [],
   "source": [
    "import seaborn as sns\n",
    "sns.set_context('notebook')\n",
    "%matplotlib inline"
   ]
  },
  {
   "cell_type": "markdown",
   "metadata": {},
   "source": [
    "## Data"
   ]
  },
  {
   "cell_type": "markdown",
   "metadata": {},
   "source": [
    "For this exercise, we'll use two datasets:\n",
    "\n",
    "1. a set of polygons (census tracts) for the city of San Diego from the US Census American Community Survey 5-year estimates.\n",
    "\n"
   ]
  },
  {
   "cell_type": "markdown",
   "metadata": {},
   "source": [
    "### Census Polygons"
   ]
  },
  {
   "cell_type": "code",
   "execution_count": null,
   "metadata": {
    "execution": {
     "iopub.execute_input": "2023-10-27T15:40:40.377044Z",
     "iopub.status.busy": "2023-10-27T15:40:40.376928Z",
     "iopub.status.idle": "2023-10-27T15:40:40.487326Z",
     "shell.execute_reply": "2023-10-27T15:40:40.486862Z",
     "shell.execute_reply.started": "2023-10-27T15:40:40.377034Z"
    },
    "tags": []
   },
   "outputs": [],
   "source": [
    "socal = gpd.read_parquet(\"data/scag_region.parquet\")"
   ]
  },
  {
   "cell_type": "code",
   "execution_count": null,
   "metadata": {
    "execution": {
     "iopub.execute_input": "2023-10-27T15:40:40.487906Z",
     "iopub.status.busy": "2023-10-27T15:40:40.487825Z",
     "iopub.status.idle": "2023-10-27T15:40:40.517594Z",
     "shell.execute_reply": "2023-10-27T15:40:40.517222Z",
     "shell.execute_reply.started": "2023-10-27T15:40:40.487897Z"
    },
    "tags": []
   },
   "outputs": [],
   "source": [
    "san_diego = socal[socal.geoid.str[:5]=='06073']"
   ]
  },
  {
   "cell_type": "code",
   "execution_count": null,
   "metadata": {
    "execution": {
     "iopub.execute_input": "2023-10-27T15:40:40.520993Z",
     "iopub.status.busy": "2023-10-27T15:40:40.520812Z",
     "iopub.status.idle": "2023-10-27T15:40:40.560023Z",
     "shell.execute_reply": "2023-10-27T15:40:40.559444Z",
     "shell.execute_reply.started": "2023-10-27T15:40:40.520980Z"
    },
    "tags": []
   },
   "outputs": [],
   "source": [
    "san_diego.info()"
   ]
  },
  {
   "cell_type": "code",
   "execution_count": null,
   "metadata": {
    "execution": {
     "iopub.execute_input": "2023-10-27T15:40:40.560863Z",
     "iopub.status.busy": "2023-10-27T15:40:40.560668Z",
     "iopub.status.idle": "2023-10-27T15:40:40.589754Z",
     "shell.execute_reply": "2023-10-27T15:40:40.589288Z",
     "shell.execute_reply.started": "2023-10-27T15:40:40.560851Z"
    },
    "tags": []
   },
   "outputs": [],
   "source": [
    "san_diego = san_diego.dropna(subset=['median_home_value'])"
   ]
  },
  {
   "cell_type": "code",
   "execution_count": null,
   "metadata": {
    "execution": {
     "iopub.execute_input": "2023-10-27T15:40:41.095102Z",
     "iopub.status.busy": "2023-10-27T15:40:41.094659Z",
     "iopub.status.idle": "2023-10-27T15:40:41.159961Z",
     "shell.execute_reply": "2023-10-27T15:40:41.159558Z",
     "shell.execute_reply.started": "2023-10-27T15:40:41.095078Z"
    },
    "tags": []
   },
   "outputs": [],
   "source": [
    "san_diego = san_diego.to_crs(epsg=3857)"
   ]
  },
  {
   "cell_type": "code",
   "execution_count": null,
   "metadata": {
    "execution": {
     "iopub.execute_input": "2023-10-06T23:15:31.248448Z",
     "iopub.status.busy": "2023-10-06T23:15:31.248002Z",
     "iopub.status.idle": "2023-10-06T23:15:35.279949Z",
     "shell.execute_reply": "2023-10-06T23:15:35.279605Z",
     "shell.execute_reply.started": "2023-10-06T23:15:31.248422Z"
    },
    "tags": []
   },
   "outputs": [],
   "source": [
    "f, ax = plt.subplots(figsize=(10,10))\n",
    "\n",
    "san_diego.plot('median_home_value', ax=ax, alpha=0.6)\n",
    "cx.add_basemap(ax, crs=san_diego.crs.to_string(), source=cx.providers.CartoDB.Positron)\n",
    "ax.axis('off')"
   ]
  },
  {
   "cell_type": "code",
   "execution_count": null,
   "metadata": {},
   "outputs": [],
   "source": [
    "san_diego.median_home_value.hist()"
   ]
  },
  {
   "cell_type": "code",
   "execution_count": null,
   "metadata": {
    "execution": {
     "iopub.execute_input": "2023-10-06T23:15:44.915154Z",
     "iopub.status.busy": "2023-10-06T23:15:44.914723Z",
     "iopub.status.idle": "2023-10-06T23:15:45.506684Z",
     "shell.execute_reply": "2023-10-06T23:15:45.506207Z",
     "shell.execute_reply.started": "2023-10-06T23:15:44.915129Z"
    },
    "tags": []
   },
   "outputs": [],
   "source": [
    "fig, ax = plt.subplots(figsize=(12,12))\n",
    "\n",
    "san_diego.dropna(subset=['median_home_value']).to_crs(epsg=3857).plot('median_home_value', legend=True, scheme='quantiles', cmap='GnBu', k=5, ax=ax, alpha=0.7)\n",
    "\n",
    "cx.add_basemap(ax, crs=san_diego.crs.to_string(), source=cx.providers.Stamen.TonerLite)\n",
    "ax.axis('off')\n",
    "\n",
    "plt.title(\"Median Home Value (Quintiles)\", fontsize=16)\n",
    "\n",
    "plt.axis('off')\n",
    "plt.tight_layout()"
   ]
  },
  {
   "cell_type": "markdown",
   "metadata": {},
   "source": [
    "## Spatial Autocorrelation ##\n",
    "\n",
    "Visual inspection of the map pattern for the prices allows us to search for\n",
    "spatial structure. If the spatial distribution of the prices was random, then we\n",
    "should not see any clustering of similar values on the map. However, our visual\n",
    "system is drawn to the darker clusters along the coast,\n",
    "and a concentration of the lighter hues (lower prices) in the north central and\n",
    "south east. In the point data, the trees are too dense to make any sense of the pattern\n",
    "\n",
    "Our brains are very powerful pattern recognition machines. However, sometimes\n",
    "they can be too powerful and lead us to detect false positives, or patterns\n",
    "where there are no statistical patterns. This is a particular concern when\n",
    "dealing with visualization of irregular polygons of differning sizes and shapes.\n",
    "\n",
    "The concept of *spatial\n",
    "autocorrelation* relates to the combination of two types of similarity: spatial\n",
    "similarity and attribute similarity. Although there are many different measures\n",
    "of spatial autocorrelation, they all combine these two types of simmilarity into\n",
    "a summary measure.\n",
    "\n",
    "Let's use PySAL to generate these two types of similarity\n",
    "measures.\n",
    "\n",
    "### Spatial Similarity ###\n",
    "\n",
    "We have already encountered spatial weights\n",
    "in a previous notebook. In spatial autocorrelation analysis, the spatial weights\n",
    "are used to formalize the notion of spatial similarity. As we have seen there\n",
    "are many ways to define spatial weights, here we will use queen contiguity:"
   ]
  },
  {
   "cell_type": "code",
   "execution_count": null,
   "metadata": {
    "execution": {
     "iopub.execute_input": "2023-10-27T15:40:46.483517Z",
     "iopub.status.busy": "2023-10-27T15:40:46.483134Z",
     "iopub.status.idle": "2023-10-27T15:40:46.566049Z",
     "shell.execute_reply": "2023-10-27T15:40:46.565451Z",
     "shell.execute_reply.started": "2023-10-27T15:40:46.483492Z"
    },
    "tags": []
   },
   "outputs": [],
   "source": [
    "wq =  lps.weights.Queen.from_dataframe(san_diego)\n",
    "wq.transform = 'r'"
   ]
  },
  {
   "cell_type": "markdown",
   "metadata": {},
   "source": [
    "### Attribute Similarity ###\n",
    "\n",
    "So the spatial weight between neighborhoods $i$ and $j$ indicates if the two \n",
    "are neighbors (i.e., geographically similar). What we also need is a measure of\n",
    "attribute similarity to pair up with this concept of spatial similarity. The\n",
    "**spatial lag** is a derived variable that accomplishes this for us. For neighborhood\n",
    "$i$ the spatial lag is defined as: $$ylag_i = \\sum_j w_{i,j} y_j$$"
   ]
  },
  {
   "cell_type": "code",
   "execution_count": null,
   "metadata": {
    "execution": {
     "iopub.execute_input": "2023-10-27T15:40:46.819863Z",
     "iopub.status.busy": "2023-10-27T15:40:46.819474Z",
     "iopub.status.idle": "2023-10-27T15:40:46.868723Z",
     "shell.execute_reply": "2023-10-27T15:40:46.868124Z",
     "shell.execute_reply.started": "2023-10-27T15:40:46.819826Z"
    },
    "tags": []
   },
   "outputs": [],
   "source": [
    "y = san_diego['median_home_value']\n",
    "ylag = lps.weights.lag_spatial(wq, y)"
   ]
  },
  {
   "cell_type": "code",
   "execution_count": null,
   "metadata": {
    "execution": {
     "iopub.execute_input": "2023-10-06T23:15:49.266001Z",
     "iopub.status.busy": "2023-10-06T23:15:49.265546Z",
     "iopub.status.idle": "2023-10-06T23:15:49.779946Z",
     "shell.execute_reply": "2023-10-06T23:15:49.779598Z",
     "shell.execute_reply.started": "2023-10-06T23:15:49.265976Z"
    },
    "tags": []
   },
   "outputs": [],
   "source": [
    "f, ax = plt.subplots(1, figsize=(12, 12))\n",
    "\n",
    "san_diego.assign(cl=ylag).plot(column='cl', scheme='quantiles', \\\n",
    "        k=5, cmap='GnBu', linewidth=0.1, ax=ax, \\\n",
    "        edgecolor='white', legend=True)\n",
    "\n",
    "cx.add_basemap(ax, crs=san_diego.crs.to_string(), source=cx.providers.Stamen.TonerLite)\n",
    "ax.axis('off')\n",
    "\n",
    "plt.title(\"Spatial Lag Median Home Val (Quintiles)\", fontsize=16)\n",
    "\n",
    "plt.show()"
   ]
  },
  {
   "cell_type": "markdown",
   "metadata": {},
   "source": [
    "The quintile map for the spatial lag tends to enhance the impression of value\n",
    "similarity in space. It is, in effect, a local smoother."
   ]
  },
  {
   "cell_type": "code",
   "execution_count": null,
   "metadata": {
    "execution": {
     "iopub.execute_input": "2023-10-06T23:15:49.781000Z",
     "iopub.status.busy": "2023-10-06T23:15:49.780817Z",
     "iopub.status.idle": "2023-10-06T23:15:50.414602Z",
     "shell.execute_reply": "2023-10-06T23:15:50.414288Z",
     "shell.execute_reply.started": "2023-10-06T23:15:49.780987Z"
    },
    "tags": []
   },
   "outputs": [],
   "source": [
    "san_diego['lag_median_pri'] = ylag\n",
    "\n",
    "f,ax = plt.subplots(1,2,figsize=(12,4))\n",
    "\n",
    "san_diego.plot(column='median_home_value', ax=ax[0],\n",
    "        scheme=\"quantiles\",  k=5, cmap='GnBu')\n",
    "\n",
    "#ax[0].axis(san_diego.total_bounds[np.asarray([0,2,1,3])])\n",
    "ax[0].set_title(\"Price\", fontsize=16)\n",
    "\n",
    "san_diego.plot(column='lag_median_pri', ax=ax[1],\n",
    "        scheme='quantiles', cmap='GnBu', k=5)\n",
    "\n",
    "cx.add_basemap(ax[0], crs=san_diego.crs.to_string(), source=cx.providers.Stamen.TonerLite)\n",
    "\n",
    "cx.add_basemap(ax[1], crs=san_diego.crs.to_string(), source=cx.providers.Stamen.TonerLite)\n",
    "\n",
    "ax[1].set_title(\"Spatial Lag Price\", fontsize=16)\n",
    "ax[0].axis('off')\n",
    "ax[1].axis('off')\n",
    "\n",
    "plt.show()"
   ]
  },
  {
   "cell_type": "markdown",
   "metadata": {},
   "source": [
    "However, we still have\n",
    "the challenge of visually associating the value of the prices in a neighborhod\n",
    "with the value of the spatial lag of values for the focal unit. The latter is a\n",
    "weighted average of home prices in the focal county's neighborhood.\n",
    "\n",
    "To complement the geovisualization of these associations we can turn to formal\n",
    "statistical measures of spatial autocorrelation.\n",
    "\n",
    "\n",
    "## Global Spatial Autocorrelation\n",
    "\n"
   ]
  },
  {
   "cell_type": "markdown",
   "metadata": {},
   "source": [
    "## Join counts ##\n",
    "\n",
    "One way to formalize a test for spatial autocorrelation in a binary attribute is\n",
    "to consider the so-called _joins_. A join exists for each neighbor pair of\n",
    "observations, and the joins are reflected in our binary spatial weights object\n",
    "`wq`. \n",
    "\n",
    "Each unit can take on one of two values \"Black\" or \"White\", analogous to the layout of a chessboard"
   ]
  },
  {
   "cell_type": "code",
   "execution_count": null,
   "metadata": {
    "execution": {
     "iopub.execute_input": "2023-10-27T15:37:20.558261Z",
     "iopub.status.busy": "2023-10-27T15:37:20.557923Z",
     "iopub.status.idle": "2023-10-27T15:37:20.688916Z",
     "shell.execute_reply": "2023-10-27T15:37:20.687349Z",
     "shell.execute_reply.started": "2023-10-27T15:37:20.558239Z"
    },
    "tags": []
   },
   "outputs": [],
   "source": [
    "nrows, ncols = 9,9\n",
    "image = np.zeros(nrows*ncols)\n",
    "\n",
    "# Set every other cell to 1\n",
    "image[::2] = 1\n",
    "\n",
    "# Reshape things into a 9x9 grid.\n",
    "image = image.reshape((nrows, ncols))\n",
    "plt.matshow(image, cmap='Greys')\n",
    "plt.axis('off')\n",
    "plt.show()"
   ]
  },
  {
   "cell_type": "markdown",
   "metadata": {},
   "source": [
    "and so for a given\n",
    "pair of neighboring locations there are three different types of joins that can\n",
    "arise:\n",
    "\n",
    "- Black Black (BB)\n",
    "- White White (WW)\n",
    "- Black White (or White Black) (BW)\n",
    "\n",
    "\n",
    "We can use the `esda` package from PySAL to carry out join count analysis. In the case of our point data, the join counts can help us determine whether different varieties of trees tend to grow together, spread randomly through space, or compete with one another for precious resources"
   ]
  },
  {
   "cell_type": "markdown",
   "metadata": {},
   "source": [
    "### Polygon Data"
   ]
  },
  {
   "cell_type": "markdown",
   "metadata": {},
   "source": [
    "With polygon data, we can conduct an analysis using a contiguity matrix. For our housing price data, we need to first discretize the variable we're using; to keep things simple, we'll binarize our price data using the median so that \"high\" values are tracts whose median home price is above the city's median and \"low\" values are those below"
   ]
  },
  {
   "cell_type": "code",
   "execution_count": null,
   "metadata": {
    "execution": {
     "iopub.execute_input": "2023-10-06T23:15:50.596998Z",
     "iopub.status.busy": "2023-10-06T23:15:50.596794Z",
     "iopub.status.idle": "2023-10-06T23:15:50.602017Z",
     "shell.execute_reply": "2023-10-06T23:15:50.601674Z",
     "shell.execute_reply.started": "2023-10-06T23:15:50.596980Z"
    },
    "tags": []
   },
   "outputs": [],
   "source": [
    "y.median()"
   ]
  },
  {
   "cell_type": "code",
   "execution_count": null,
   "metadata": {
    "execution": {
     "iopub.execute_input": "2023-10-06T23:15:50.754243Z",
     "iopub.status.busy": "2023-10-06T23:15:50.753975Z",
     "iopub.status.idle": "2023-10-06T23:15:50.758981Z",
     "shell.execute_reply": "2023-10-06T23:15:50.758567Z",
     "shell.execute_reply.started": "2023-10-06T23:15:50.754228Z"
    },
    "tags": []
   },
   "outputs": [],
   "source": [
    "san_diego.shape"
   ]
  },
  {
   "cell_type": "code",
   "execution_count": null,
   "metadata": {
    "execution": {
     "iopub.execute_input": "2023-10-06T23:15:50.931505Z",
     "iopub.status.busy": "2023-10-06T23:15:50.930244Z",
     "iopub.status.idle": "2023-10-06T23:15:50.941885Z",
     "shell.execute_reply": "2023-10-06T23:15:50.941036Z",
     "shell.execute_reply.started": "2023-10-06T23:15:50.931471Z"
    },
    "tags": []
   },
   "outputs": [],
   "source": [
    "yb = y > y.median()\n",
    "sum(yb)"
   ]
  },
  {
   "cell_type": "code",
   "execution_count": null,
   "metadata": {
    "execution": {
     "iopub.execute_input": "2023-10-06T23:15:51.066811Z",
     "iopub.status.busy": "2023-10-06T23:15:51.066091Z",
     "iopub.status.idle": "2023-10-06T23:15:51.073839Z",
     "shell.execute_reply": "2023-10-06T23:15:51.073174Z",
     "shell.execute_reply.started": "2023-10-06T23:15:51.066784Z"
    },
    "tags": []
   },
   "outputs": [],
   "source": [
    "yb = y > y.median()\n",
    "labels = [\"0 Low\", \"1 High\"]\n",
    "yb = [labels[i] for i in 1*yb] \n",
    "san_diego['yb'] = yb"
   ]
  },
  {
   "cell_type": "code",
   "execution_count": null,
   "metadata": {
    "execution": {
     "iopub.execute_input": "2023-10-06T23:15:51.216875Z",
     "iopub.status.busy": "2023-10-06T23:15:51.216225Z",
     "iopub.status.idle": "2023-10-06T23:15:51.463421Z",
     "shell.execute_reply": "2023-10-06T23:15:51.462964Z",
     "shell.execute_reply.started": "2023-10-06T23:15:51.216848Z"
    },
    "tags": []
   },
   "outputs": [],
   "source": [
    "fig, ax = plt.subplots(figsize=(12,12))\n",
    "san_diego.plot(column='yb', cmap='binary', edgecolor='grey', legend=True, ax=ax)"
   ]
  },
  {
   "cell_type": "markdown",
   "metadata": {},
   "source": [
    "The spatial distribution of the binary variable immediately raises questions\n",
    "about the juxtaposition of the \"black\" and \"white\" areas."
   ]
  },
  {
   "cell_type": "markdown",
   "metadata": {},
   "source": [
    "Given that we have 308 Black polygons on our map, what is the number of Black\n",
    "Black (BB) joins we could expect if the process were such that the Black\n",
    "polygons were randomly assigned on the map?"
   ]
  },
  {
   "cell_type": "code",
   "execution_count": null,
   "metadata": {
    "execution": {
     "iopub.execute_input": "2023-10-06T23:15:51.693747Z",
     "iopub.status.busy": "2023-10-06T23:15:51.693497Z",
     "iopub.status.idle": "2023-10-06T23:15:52.313320Z",
     "shell.execute_reply": "2023-10-06T23:15:52.312880Z",
     "shell.execute_reply.started": "2023-10-06T23:15:51.693728Z"
    },
    "tags": []
   },
   "outputs": [],
   "source": [
    "yb = 1 * (y > y.median()) # convert back to binary\n",
    "wq =  lps.weights.Queen.from_dataframe(san_diego)\n",
    "wq.transform = 'b'\n",
    "np.random.seed(12345)\n",
    "jc = esda.join_counts.Join_Counts(yb, wq)"
   ]
  },
  {
   "cell_type": "markdown",
   "metadata": {},
   "source": [
    "The resulting object stores the observed counts for the different types of joins:"
   ]
  },
  {
   "cell_type": "code",
   "execution_count": null,
   "metadata": {
    "execution": {
     "iopub.execute_input": "2023-10-06T23:15:52.314192Z",
     "iopub.status.busy": "2023-10-06T23:15:52.314101Z",
     "iopub.status.idle": "2023-10-06T23:15:52.318321Z",
     "shell.execute_reply": "2023-10-06T23:15:52.317968Z",
     "shell.execute_reply.started": "2023-10-06T23:15:52.314183Z"
    },
    "tags": []
   },
   "outputs": [],
   "source": [
    "jc.bb"
   ]
  },
  {
   "cell_type": "code",
   "execution_count": null,
   "metadata": {
    "execution": {
     "iopub.execute_input": "2023-10-06T23:15:52.318782Z",
     "iopub.status.busy": "2023-10-06T23:15:52.318694Z",
     "iopub.status.idle": "2023-10-06T23:15:52.324540Z",
     "shell.execute_reply": "2023-10-06T23:15:52.324102Z",
     "shell.execute_reply.started": "2023-10-06T23:15:52.318773Z"
    },
    "tags": []
   },
   "outputs": [],
   "source": [
    "jc.ww"
   ]
  },
  {
   "cell_type": "code",
   "execution_count": null,
   "metadata": {
    "execution": {
     "iopub.execute_input": "2023-10-06T23:15:52.325913Z",
     "iopub.status.busy": "2023-10-06T23:15:52.325796Z",
     "iopub.status.idle": "2023-10-06T23:15:52.330546Z",
     "shell.execute_reply": "2023-10-06T23:15:52.329185Z",
     "shell.execute_reply.started": "2023-10-06T23:15:52.325903Z"
    },
    "tags": []
   },
   "outputs": [],
   "source": [
    "jc.bw"
   ]
  },
  {
   "cell_type": "markdown",
   "metadata": {},
   "source": [
    "Note that the three cases exhaust all possibilities:"
   ]
  },
  {
   "cell_type": "code",
   "execution_count": null,
   "metadata": {
    "execution": {
     "iopub.execute_input": "2023-10-06T23:15:52.633572Z",
     "iopub.status.busy": "2023-10-06T23:15:52.633106Z",
     "iopub.status.idle": "2023-10-06T23:15:52.649314Z",
     "shell.execute_reply": "2023-10-06T23:15:52.647665Z",
     "shell.execute_reply.started": "2023-10-06T23:15:52.633545Z"
    },
    "tags": []
   },
   "outputs": [],
   "source": [
    "jc.bb + jc.ww + jc.bw"
   ]
  },
  {
   "cell_type": "markdown",
   "metadata": {},
   "source": [
    "and"
   ]
  },
  {
   "cell_type": "code",
   "execution_count": null,
   "metadata": {
    "execution": {
     "iopub.execute_input": "2023-10-06T23:15:52.969282Z",
     "iopub.status.busy": "2023-10-06T23:15:52.968631Z",
     "iopub.status.idle": "2023-10-06T23:15:52.978945Z",
     "shell.execute_reply": "2023-10-06T23:15:52.977827Z",
     "shell.execute_reply.started": "2023-10-06T23:15:52.969252Z"
    },
    "tags": []
   },
   "outputs": [],
   "source": [
    "wq.s0 / 2"
   ]
  },
  {
   "cell_type": "markdown",
   "metadata": {},
   "source": [
    "which is the unique number of joins in the spatial weights object.\n",
    "\n",
    "Our object tells us we have observed 736 BB joins:"
   ]
  },
  {
   "cell_type": "code",
   "execution_count": null,
   "metadata": {
    "execution": {
     "iopub.execute_input": "2023-10-06T23:15:53.289390Z",
     "iopub.status.busy": "2023-10-06T23:15:53.288693Z",
     "iopub.status.idle": "2023-10-06T23:15:53.298863Z",
     "shell.execute_reply": "2023-10-06T23:15:53.297914Z",
     "shell.execute_reply.started": "2023-10-06T23:15:53.289356Z"
    },
    "tags": []
   },
   "outputs": [],
   "source": [
    "jc.bb"
   ]
  },
  {
   "cell_type": "markdown",
   "metadata": {},
   "source": [
    "The critical question for us, is whether this is a departure from what we would\n",
    "expect if the process generating the spatial distribution of the Black polygons\n",
    "were a completely random one? To answer this, PySAL uses random spatial\n",
    "permutations of the observed attribute values to generate a realization under\n",
    "the null of _complete spatial randomness_ (CSR). This is repeated a large number\n",
    "of times (999 default) to construct a reference distribution to evaluate the\n",
    "statistical significance of our observed counts.\n",
    "\n",
    "The average number of BB joins from the synthetic realizations is:"
   ]
  },
  {
   "cell_type": "code",
   "execution_count": null,
   "metadata": {
    "execution": {
     "iopub.execute_input": "2023-10-06T23:15:53.739590Z",
     "iopub.status.busy": "2023-10-06T23:15:53.737792Z",
     "iopub.status.idle": "2023-10-06T23:15:53.777378Z",
     "shell.execute_reply": "2023-10-06T23:15:53.776600Z",
     "shell.execute_reply.started": "2023-10-06T23:15:53.739531Z"
    },
    "tags": []
   },
   "outputs": [],
   "source": [
    "jc.mean_bb"
   ]
  },
  {
   "cell_type": "markdown",
   "metadata": {},
   "source": [
    "which is less than our observed count. The question is whether our observed\n",
    "value is so different from the expectation that we would reject the null of CSR?"
   ]
  },
  {
   "cell_type": "code",
   "execution_count": null,
   "metadata": {
    "execution": {
     "iopub.execute_input": "2023-10-06T23:15:54.036501Z",
     "iopub.status.busy": "2023-10-06T23:15:54.036040Z",
     "iopub.status.idle": "2023-10-06T23:15:54.146252Z",
     "shell.execute_reply": "2023-10-06T23:15:54.145880Z",
     "shell.execute_reply.started": "2023-10-06T23:15:54.036471Z"
    },
    "tags": []
   },
   "outputs": [],
   "source": [
    "import seaborn as sbn\n",
    "sbn.kdeplot(jc.sim_bb, shade=True)\n",
    "plt.vlines(jc.bb, 0, 0.075, color='r')\n",
    "plt.vlines(jc.mean_bb, 0,0.075)\n",
    "plt.xlabel('BB Counts')"
   ]
  },
  {
   "cell_type": "markdown",
   "metadata": {},
   "source": [
    "The density portrays the distribution of the BB counts, with the black vertical\n",
    "line indicating the mean BB count from the synthetic realizations and the red\n",
    "line the observed BB count for our prices. Clearly our observed value is\n",
    "extremely high. A pseudo p-value summarizes this:"
   ]
  },
  {
   "cell_type": "code",
   "execution_count": null,
   "metadata": {
    "execution": {
     "iopub.execute_input": "2023-10-06T23:15:54.365093Z",
     "iopub.status.busy": "2023-10-06T23:15:54.364795Z",
     "iopub.status.idle": "2023-10-06T23:15:54.370493Z",
     "shell.execute_reply": "2023-10-06T23:15:54.370032Z",
     "shell.execute_reply.started": "2023-10-06T23:15:54.365063Z"
    },
    "tags": []
   },
   "outputs": [],
   "source": [
    "jc.p_sim_bb"
   ]
  },
  {
   "cell_type": "markdown",
   "metadata": {},
   "source": [
    "Since this is below conventional significance levels, we would reject the null\n",
    "of complete spatial randomness in favor of spatial autocorrelation in market prices.\n",
    "\n",
    "\n",
    "### Continuous Case\n",
    "\n",
    "The join count analysis is based on a binary attribute, which can cover many\n",
    "interesting empirical applications where one is interested in presence and\n",
    "absence type phenomena. In our case, we artificially created the binary variable,\n",
    "and in the process we throw away a lot of information in our originally\n",
    "continuous attribute. Turning back to the original variable, we can explore\n",
    "other tests for spatial autocorrelation for the continuous case.\n",
    "\n",
    "First, we transform our weights to be row-standardized, from the current binary state:"
   ]
  },
  {
   "cell_type": "code",
   "execution_count": null,
   "metadata": {
    "execution": {
     "iopub.execute_input": "2023-10-27T15:37:27.789459Z",
     "iopub.status.busy": "2023-10-27T15:37:27.789079Z",
     "iopub.status.idle": "2023-10-27T15:37:27.797103Z",
     "shell.execute_reply": "2023-10-27T15:37:27.795887Z",
     "shell.execute_reply.started": "2023-10-27T15:37:27.789434Z"
    },
    "tags": []
   },
   "outputs": [],
   "source": [
    "wq.transform = 'r'"
   ]
  },
  {
   "cell_type": "code",
   "execution_count": null,
   "metadata": {
    "execution": {
     "iopub.execute_input": "2023-10-27T15:40:56.077139Z",
     "iopub.status.busy": "2023-10-27T15:40:56.076758Z",
     "iopub.status.idle": "2023-10-27T15:40:56.116866Z",
     "shell.execute_reply": "2023-10-27T15:40:56.116476Z",
     "shell.execute_reply.started": "2023-10-27T15:40:56.077116Z"
    },
    "tags": []
   },
   "outputs": [],
   "source": [
    "y = san_diego['median_home_value']"
   ]
  },
  {
   "cell_type": "markdown",
   "metadata": {},
   "source": [
    "Moran's I is a test for global autocorrelation for a continuous attribute:"
   ]
  },
  {
   "cell_type": "code",
   "execution_count": null,
   "metadata": {
    "execution": {
     "iopub.execute_input": "2023-10-27T15:40:57.661297Z",
     "iopub.status.busy": "2023-10-27T15:40:57.660775Z",
     "iopub.status.idle": "2023-10-27T15:40:57.729580Z",
     "shell.execute_reply": "2023-10-27T15:40:57.729160Z",
     "shell.execute_reply.started": "2023-10-27T15:40:57.661272Z"
    },
    "tags": []
   },
   "outputs": [],
   "source": [
    "np.random.seed(12345)\n",
    "mi = esda.moran.Moran(y, wq)\n",
    "mi.I"
   ]
  },
  {
   "cell_type": "markdown",
   "metadata": {},
   "source": [
    "Again, our value for the statistic needs to be interpreted against a reference\n",
    "distribution under the null of CSR. PySAL uses a similar approach as we saw in\n",
    "the join count analysis: random spatial permutations."
   ]
  },
  {
   "cell_type": "code",
   "execution_count": null,
   "metadata": {
    "execution": {
     "iopub.execute_input": "2023-10-27T15:37:30.473961Z",
     "iopub.status.busy": "2023-10-27T15:37:30.473603Z",
     "iopub.status.idle": "2023-10-27T15:37:31.719965Z",
     "shell.execute_reply": "2023-10-27T15:37:31.719450Z",
     "shell.execute_reply.started": "2023-10-27T15:37:30.473938Z"
    },
    "tags": []
   },
   "outputs": [],
   "source": [
    "from splot.esda import plot_moran\n",
    "plot_moran(mi, zstandard=True, figsize=(10,4))\n",
    "plt.show()"
   ]
  },
  {
   "cell_type": "markdown",
   "metadata": {},
   "source": [
    "On the left, we have the reference distribution versus the observed statistic; on the right, we have a plot of the focal value against its spatial lag, for which the Moran I statistic serves as the slope"
   ]
  },
  {
   "cell_type": "markdown",
   "metadata": {},
   "source": [
    "Here our observed value is again in the upper tail"
   ]
  },
  {
   "cell_type": "code",
   "execution_count": null,
   "metadata": {
    "execution": {
     "iopub.execute_input": "2023-10-27T15:37:34.585205Z",
     "iopub.status.busy": "2023-10-27T15:37:34.584799Z",
     "iopub.status.idle": "2023-10-27T15:37:34.595496Z",
     "shell.execute_reply": "2023-10-27T15:37:34.593852Z",
     "shell.execute_reply.started": "2023-10-27T15:37:34.585182Z"
    },
    "tags": []
   },
   "outputs": [],
   "source": [
    "mi.p_sim"
   ]
  },
  {
   "cell_type": "markdown",
   "metadata": {},
   "source": [
    "## Local Autocorrelation: Hot Spots, Cold Spots, and Spatial Outliers ##\n",
    "\n",
    "In addition to the Global autocorrelation statistics, PySAL has many local\n",
    "autocorrelation statistics. Let's compute a local Moran statistic for the same data"
   ]
  },
  {
   "cell_type": "code",
   "execution_count": null,
   "metadata": {
    "execution": {
     "iopub.execute_input": "2023-10-27T15:41:03.465898Z",
     "iopub.status.busy": "2023-10-27T15:41:03.465504Z",
     "iopub.status.idle": "2023-10-27T15:41:03.517737Z",
     "shell.execute_reply": "2023-10-27T15:41:03.517294Z",
     "shell.execute_reply.started": "2023-10-27T15:41:03.465871Z"
    },
    "tags": []
   },
   "outputs": [],
   "source": [
    "np.random.seed(12345)"
   ]
  },
  {
   "cell_type": "code",
   "execution_count": null,
   "metadata": {
    "execution": {
     "iopub.execute_input": "2023-10-27T15:41:03.887180Z",
     "iopub.status.busy": "2023-10-27T15:41:03.886270Z",
     "iopub.status.idle": "2023-10-27T15:41:03.928002Z",
     "shell.execute_reply": "2023-10-27T15:41:03.927449Z",
     "shell.execute_reply.started": "2023-10-27T15:41:03.887154Z"
    },
    "tags": []
   },
   "outputs": [],
   "source": [
    "wq.transform = 'r'\n",
    "lag_price = lps.weights.lag_spatial(wq, san_diego['median_home_value'])"
   ]
  },
  {
   "cell_type": "code",
   "execution_count": null,
   "metadata": {
    "execution": {
     "iopub.execute_input": "2023-10-30T21:09:52.889309Z",
     "iopub.status.busy": "2023-10-30T21:09:52.888730Z",
     "iopub.status.idle": "2023-10-30T21:09:53.223138Z",
     "shell.execute_reply": "2023-10-30T21:09:53.222735Z",
     "shell.execute_reply.started": "2023-10-30T21:09:52.889263Z"
    },
    "tags": []
   },
   "outputs": [],
   "source": [
    "li = esda.moran.Moran_Local(y, wq, seed=1234, permutations=99)"
   ]
  },
  {
   "cell_type": "code",
   "execution_count": null,
   "metadata": {
    "execution": {
     "iopub.execute_input": "2023-10-30T21:11:36.487867Z",
     "iopub.status.busy": "2023-10-30T21:11:36.487204Z",
     "iopub.status.idle": "2023-10-30T21:11:36.526345Z",
     "shell.execute_reply": "2023-10-30T21:11:36.525887Z",
     "shell.execute_reply.started": "2023-10-30T21:11:36.487820Z"
    },
    "tags": []
   },
   "outputs": [],
   "source": [
    "import libpysal\n",
    "from esda import moran"
   ]
  },
  {
   "cell_type": "code",
   "execution_count": null,
   "metadata": {
    "execution": {
     "iopub.execute_input": "2023-10-30T21:17:18.571773Z",
     "iopub.status.busy": "2023-10-30T21:17:18.570498Z",
     "iopub.status.idle": "2023-10-30T21:17:18.996434Z",
     "shell.execute_reply": "2023-10-30T21:17:18.996135Z",
     "shell.execute_reply.started": "2023-10-30T21:17:18.571743Z"
    },
    "tags": []
   },
   "outputs": [],
   "source": [
    "sac1 = libpysal.examples.load_example(\"Sacramento1\")\n",
    "sac1 = gpd.read_file(sac1.get_path(\"sacramentot2.shp\"))\n",
    "\n",
    "w = libpysal.weights.Queen.from_dataframe(sac1)\n",
    "lm = moran.Moran_Local(\n",
    "            sac1.HSG_VAL.values,\n",
    "            w,\n",
    "            transformation=\"r\",\n",
    "            permutations=99,\n",
    "            keep_simulations=True,\n",
    "            seed=12345,\n",
    "        )"
   ]
  },
  {
   "cell_type": "code",
   "execution_count": null,
   "metadata": {
    "execution": {
     "iopub.execute_input": "2023-10-30T21:32:02.431788Z",
     "iopub.status.busy": "2023-10-30T21:32:02.431444Z",
     "iopub.status.idle": "2023-10-30T21:32:02.471412Z",
     "shell.execute_reply": "2023-10-30T21:32:02.471098Z",
     "shell.execute_reply.started": "2023-10-30T21:32:02.431763Z"
    },
    "tags": []
   },
   "outputs": [],
   "source": [
    "pd.Series(lm.get_cluster_labels(.05)).value_counts().values"
   ]
  },
  {
   "cell_type": "code",
   "execution_count": null,
   "metadata": {
    "execution": {
     "iopub.execute_input": "2023-10-30T21:14:15.391413Z",
     "iopub.status.busy": "2023-10-30T21:14:15.390851Z",
     "iopub.status.idle": "2023-10-30T21:14:15.567443Z",
     "shell.execute_reply": "2023-10-30T21:14:15.567112Z",
     "shell.execute_reply.started": "2023-10-30T21:14:15.391371Z"
    },
    "tags": []
   },
   "outputs": [],
   "source": [
    "li.explore(san_diego, crit_value=.05)"
   ]
  },
  {
   "cell_type": "markdown",
   "metadata": {},
   "source": [
    "Now, instead of a single $I$ statistic, we have an *array* of local $I_i$\n",
    "statistics, stored in the `.Is` attribute, and p-values from the simulation are\n",
    "in `p_sim`."
   ]
  },
  {
   "cell_type": "code",
   "execution_count": null,
   "metadata": {
    "execution": {
     "iopub.execute_input": "2023-10-06T23:15:58.429781Z",
     "iopub.status.busy": "2023-10-06T23:15:58.429649Z",
     "iopub.status.idle": "2023-10-06T23:15:58.533138Z",
     "shell.execute_reply": "2023-10-06T23:15:58.532720Z",
     "shell.execute_reply.started": "2023-10-06T23:15:58.429771Z"
    },
    "tags": []
   },
   "outputs": [],
   "source": [
    "from splot.esda import moran_scatterplot\n",
    "\n",
    "fig, ax = moran_scatterplot(li)\n",
    "ax.set_xlabel('Price')\n",
    "ax.set_ylabel('Spatial Lag of Price')\n",
    "plt.show()"
   ]
  },
  {
   "cell_type": "code",
   "execution_count": null,
   "metadata": {
    "execution": {
     "iopub.execute_input": "2023-10-06T23:15:58.533867Z",
     "iopub.status.busy": "2023-10-06T23:15:58.533772Z",
     "iopub.status.idle": "2023-10-06T23:15:58.538787Z",
     "shell.execute_reply": "2023-10-06T23:15:58.537626Z",
     "shell.execute_reply.started": "2023-10-06T23:15:58.533857Z"
    },
    "tags": []
   },
   "outputs": [],
   "source": [
    "li.q"
   ]
  },
  {
   "cell_type": "markdown",
   "metadata": {},
   "source": [
    "We can again test for local clustering using permutations, but here we use\n",
    "conditional random permutations (different distributions for each focal location)"
   ]
  },
  {
   "cell_type": "code",
   "execution_count": null,
   "metadata": {
    "execution": {
     "iopub.execute_input": "2023-10-06T23:15:58.540819Z",
     "iopub.status.busy": "2023-10-06T23:15:58.540634Z",
     "iopub.status.idle": "2023-10-06T23:15:58.543880Z",
     "shell.execute_reply": "2023-10-06T23:15:58.543402Z",
     "shell.execute_reply.started": "2023-10-06T23:15:58.540807Z"
    },
    "tags": []
   },
   "outputs": [],
   "source": [
    "(li.p_sim < 0.05).sum()"
   ]
  },
  {
   "cell_type": "code",
   "execution_count": null,
   "metadata": {
    "execution": {
     "iopub.execute_input": "2023-10-06T23:15:58.545376Z",
     "iopub.status.busy": "2023-10-06T23:15:58.544405Z",
     "iopub.status.idle": "2023-10-06T23:15:58.653997Z",
     "shell.execute_reply": "2023-10-06T23:15:58.653671Z",
     "shell.execute_reply.started": "2023-10-06T23:15:58.545348Z"
    },
    "tags": []
   },
   "outputs": [],
   "source": [
    "fig, ax = moran_scatterplot(li, p=0.05)\n",
    "ax.set_xlabel('Price')\n",
    "ax.set_ylabel('Spatial Lag of Price')\n",
    "plt.show()"
   ]
  },
  {
   "cell_type": "markdown",
   "metadata": {},
   "source": [
    "We can distinguish the specific type of local spatial association reflected in\n",
    "the four quadrants of the Moran Scatterplot above:\n",
    "- High-High (upper right)\n",
    "- Low-Low (bottom left)\n",
    "- High-Low (lower right)\n",
    "- Low-High (upper left)"
   ]
  },
  {
   "cell_type": "markdown",
   "metadata": {},
   "source": [
    "Using `splot`, we can also plot these hotspots on the original geodataframe"
   ]
  },
  {
   "cell_type": "code",
   "execution_count": null,
   "metadata": {
    "execution": {
     "iopub.execute_input": "2023-10-06T23:15:58.654589Z",
     "iopub.status.busy": "2023-10-06T23:15:58.654491Z",
     "iopub.status.idle": "2023-10-06T23:15:58.808795Z",
     "shell.execute_reply": "2023-10-06T23:15:58.808429Z",
     "shell.execute_reply.started": "2023-10-06T23:15:58.654580Z"
    },
    "tags": []
   },
   "outputs": [],
   "source": [
    "from splot.esda import lisa_cluster\n",
    "lisa_cluster(li, san_diego, p=0.05, figsize = (9,9))\n",
    "plt.show()"
   ]
  },
  {
   "cell_type": "code",
   "execution_count": null,
   "metadata": {
    "execution": {
     "iopub.execute_input": "2023-10-06T23:15:58.810023Z",
     "iopub.status.busy": "2023-10-06T23:15:58.809891Z",
     "iopub.status.idle": "2023-10-06T23:15:59.227854Z",
     "shell.execute_reply": "2023-10-06T23:15:59.227381Z",
     "shell.execute_reply.started": "2023-10-06T23:15:58.809996Z"
    },
    "tags": []
   },
   "outputs": [],
   "source": [
    "from splot.esda import plot_local_autocorrelation\n",
    "plot_local_autocorrelation(li, san_diego, 'median_home_value')"
   ]
  },
  {
   "cell_type": "code",
   "execution_count": null,
   "metadata": {},
   "outputs": [],
   "source": []
  },
  {
   "cell_type": "code",
   "execution_count": null,
   "metadata": {},
   "outputs": [],
   "source": []
  },
  {
   "cell_type": "code",
   "execution_count": null,
   "metadata": {},
   "outputs": [],
   "source": []
  }
 ],
 "metadata": {
  "kernelspec": {
   "display_name": "Python [conda env:carto_sdsc23]",
   "language": "python",
   "name": "conda-env-carto_sdsc23-py"
  },
  "language_info": {
   "codemirror_mode": {
    "name": "ipython",
    "version": 3
   },
   "file_extension": ".py",
   "mimetype": "text/x-python",
   "name": "python",
   "nbconvert_exporter": "python",
   "pygments_lexer": "ipython3",
   "version": "3.11.6"
  },
  "widgets": {
   "application/vnd.jupyter.widget-state+json": {
    "state": {},
    "version_major": 2,
    "version_minor": 0
   }
  }
 },
 "nbformat": 4,
 "nbformat_minor": 4
}
